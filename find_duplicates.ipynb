{
 "cells": [
  {
   "cell_type": "markdown",
   "id": "3f80789f",
   "metadata": {},
   "source": [
    "Given an array of n+1 integers with values in [1, n].\n",
    "There is exactly one duplicated number.\n",
    "Write a function \"find_duplicate\" that takes an array of integers and returns the duplicated number"
   ]
  },
  {
   "cell_type": "code",
   "execution_count": 5,
   "id": "02129530",
   "metadata": {},
   "outputs": [
    {
     "data": {
      "text/plain": [
       "-1"
      ]
     },
     "execution_count": 5,
     "metadata": {},
     "output_type": "execute_result"
    }
   ],
   "source": [
    "from collections import Counter\n",
    "\n",
    "def find_duplicate(arr):\n",
    "    arr_count = Counter(arr)\n",
    "    for key, value in arr_count.items():\n",
    "        if value == 2:\n",
    "            return key\n",
    "    return -1\n",
    "\n",
    "def find_duplicate_2(arr):\n",
    "    arr_set = set()\n",
    "    for i in arr:\n",
    "        try:\n",
    "            value = arr_set.get(i)\n",
    "            return value\n",
    "        except:\n",
    "            arr_set.add(i)\n",
    "    return -1\n",
    "    \n",
    "    \n",
    "find_duplicate_2([2, 3, 2, 1])"
   ]
  },
  {
   "cell_type": "code",
   "execution_count": null,
   "id": "1e7040e2",
   "metadata": {},
   "outputs": [],
   "source": []
  }
 ],
 "metadata": {
  "kernelspec": {
   "display_name": "Python 3",
   "language": "python",
   "name": "python3"
  },
  "language_info": {
   "codemirror_mode": {
    "name": "ipython",
    "version": 3
   },
   "file_extension": ".py",
   "mimetype": "text/x-python",
   "name": "python",
   "nbconvert_exporter": "python",
   "pygments_lexer": "ipython3",
   "version": "3.8.8"
  }
 },
 "nbformat": 4,
 "nbformat_minor": 5
}
