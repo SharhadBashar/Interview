{
 "cells": [
  {
   "cell_type": "code",
   "execution_count": 3,
   "id": "8bed1a4f",
   "metadata": {},
   "outputs": [],
   "source": [
    "def simple(A, changes = 0):\n",
    "    A.sort()\n",
    "    for i in range(len(A)):\n",
    "        changes += abs(A[i] - (i + 1))\n",
    "    return changes"
   ]
  },
  {
   "cell_type": "code",
   "execution_count": 11,
   "id": "0c3b7a67",
   "metadata": {},
   "outputs": [],
   "source": [
    "def linear(A, changes = 0):\n",
    "    count = dict()\n",
    "    n = len(A)\n",
    "    for i in range(1, n + 1):\n",
    "        count[i] = 0\n",
    "    for num in A:\n",
    "        count[num] += 1\n",
    "    for key, val in count.items():\n",
    "        if val == 1:\n",
    "            continue\n",
    "        elif val == 0:\n",
    "            changes += 1\n",
    "        else:\n",
    "            changes += val - 1\n",
    "    return changes\n",
    "            "
   ]
  },
  {
   "cell_type": "code",
   "execution_count": 14,
   "id": "1395420e",
   "metadata": {},
   "outputs": [
    {
     "name": "stdout",
     "output_type": "stream",
     "text": [
      "2\n"
     ]
    }
   ],
   "source": [
    "A = [1, 2, 1]\n",
    "B = [1, 2, 4, 4]\n",
    "C = [6, 2, 3, 5, 6, 3]\n",
    "# print(simple(A))\n",
    "print(linear(B))"
   ]
  },
  {
   "cell_type": "code",
   "execution_count": 3,
   "id": "e793b607",
   "metadata": {},
   "outputs": [
    {
     "name": "stdout",
     "output_type": "stream",
     "text": [
      "True\n",
      "['apple', 'applegate', 'apply', 'application']\n",
      "False\n"
     ]
    }
   ],
   "source": [
    "class TrieNode:\n",
    "    def __init__(self):\n",
    "        self.children = {}\n",
    "        self.end_of_word = False\n",
    "        \n",
    "    def allWords(self):\n",
    "        if self.end_of_word:\n",
    "            yield \"\"\n",
    "        for char, child in self.children.items():\n",
    "            for word in child.allWords():\n",
    "                yield char + word\n",
    "\n",
    "class Trie(object):\n",
    "    def __init__(self):\n",
    "        self.root = TrieNode()\n",
    "\n",
    "    def insert(self, word):\n",
    "        current = self.root\n",
    "        for char in word:\n",
    "            if char not in current.children:\n",
    "                current.children[char] = TrieNode()\n",
    "            current = current.children[char]\n",
    "        current.end_of_word = True\n",
    "            \n",
    "    def locate(self, word):\n",
    "        current = self.root\n",
    "        for char in word:\n",
    "            if char not in current.children:\n",
    "                return\n",
    "            current = current.children[char]\n",
    "        return current\n",
    "    \n",
    "    def search(self, word):\n",
    "        current = self.root\n",
    "        for char in word:\n",
    "            if char not in current.children:\n",
    "                return False\n",
    "            current = current.children[char]\n",
    "        return current.end_of_word\n",
    "        \n",
    "    def startsWith(self, prefix):\n",
    "#         current = self.root\n",
    "#         for char in prefix:\n",
    "#             if char not in current.children:\n",
    "#                 return False\n",
    "#             current = current.children[char]\n",
    "#         return True\n",
    "        current = self.locate(prefix)\n",
    "        if not current:\n",
    "            return []\n",
    "        return [prefix + word for word in current.allWords()]\n",
    "    \n",
    "    def remove(self, word):\n",
    "        current = self.root\n",
    "        if self.search(word):\n",
    "            for char in word:\n",
    "                current = current.children[char]\n",
    "            current.end_of_word = False\n",
    "        \n",
    "\n",
    "\n",
    "# Your Trie object will be instantiated and called as such:\n",
    "obj = Trie()\n",
    "obj.insert('apple')\n",
    "obj.insert('applegate')\n",
    "obj.insert('apply')\n",
    "obj.insert('application')\n",
    "\n",
    "print(obj.search('applegate'))\n",
    "print(obj.startsWith('app'))\n",
    "obj.remove('applegate')\n",
    "print(obj.search('applegate'))\n",
    "\n"
   ]
  },
  {
   "cell_type": "code",
   "execution_count": null,
   "id": "ac8f2486",
   "metadata": {},
   "outputs": [],
   "source": []
  },
  {
   "cell_type": "code",
   "execution_count": null,
   "id": "915e4194",
   "metadata": {},
   "outputs": [],
   "source": []
  }
 ],
 "metadata": {
  "kernelspec": {
   "display_name": "Python 3",
   "language": "python",
   "name": "python3"
  },
  "language_info": {
   "codemirror_mode": {
    "name": "ipython",
    "version": 3
   },
   "file_extension": ".py",
   "mimetype": "text/x-python",
   "name": "python",
   "nbconvert_exporter": "python",
   "pygments_lexer": "ipython3",
   "version": "3.8.8"
  }
 },
 "nbformat": 4,
 "nbformat_minor": 5
}
