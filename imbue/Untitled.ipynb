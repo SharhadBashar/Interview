{
 "cells": [
  {
   "cell_type": "code",
   "execution_count": 8,
   "id": "83c1e5a3",
   "metadata": {},
   "outputs": [],
   "source": [
    "from typing import List\n",
    "from itertools import combinations"
   ]
  },
  {
   "cell_type": "code",
   "execution_count": 66,
   "id": "b04810d8",
   "metadata": {},
   "outputs": [],
   "source": [
    "def expected_length(field: List[str], K: int) -> float:\n",
    "    def bfs(start, end):\n",
    "        direction = [(1, 0), (-1, 0), (0, 1), (0, -1)]\n",
    "        queue = [(start, 0)]\n",
    "        visited = set()\n",
    "        while queue:\n",
    "            node, distance = queue.pop(0)\n",
    "            if (node == end):\n",
    "                return distance\n",
    "            visited.add(node)\n",
    "            for dx, dy in direction:\n",
    "                nx, ny = node[0] + dx, node[1] + dy\n",
    "                if (0 <= nx < len(field) \n",
    "                    and 0 <= ny < len(field[0]) \n",
    "                    and field[nx][ny] != '#' \n",
    "                    and (nx, ny) not in visited):\n",
    "                    queue.append(((nx, ny), distance + 1))\n",
    "        return float('inf')\n",
    "  \n",
    "    checkpoints = []\n",
    "    for i in range(len(field)):\n",
    "        for j in range(len(field[0])):\n",
    "            if (field[i][j] == '*'):\n",
    "                checkpoints.append((i, j))\n",
    "                \n",
    "    distances = [[0] * len(checkpoints) for _ in range(len(checkpoints))]\n",
    "    for i in range(len(checkpoints)):\n",
    "        for j in range(i + 1, len(checkpoints)):\n",
    "            distance = bfs(checkpoints[i], checkpoints[j])\n",
    "            distances[i][j] = distance\n",
    "            distances[j][i] = distance\n",
    "    \n",
    "    for i in range(len(distances)):\n",
    "        for j in range(len(distances[0])):\n",
    "            if (i == j):\n",
    "                distances[i][j] = float('inf')\n",
    "    print(distances)            \n",
    "    total_distance = 0\n",
    "    combo_count = 0\n",
    "    for chosen_checkpoint in combinations(range(len(checkpoints)), K):\n",
    "        min_distance = min(distances[i][j] for i in chosen_checkpoint for j in chosen_checkpoint)\n",
    "        total_distance += min_distance\n",
    "        combo_count += 1\n",
    "    return total_distance / combo_count"
   ]
  },
  {
   "cell_type": "code",
   "execution_count": 71,
   "id": "19b34cfc",
   "metadata": {},
   "outputs": [
    {
     "name": "stdout",
     "output_type": "stream",
     "text": [
      "[[inf, 5, 2, 6], [5, inf, 3, 3], [2, 3, inf, 4], [6, 3, 4, inf]]\n",
      "3.8333333333333335\n"
     ]
    }
   ],
   "source": [
    "\n",
    "field = [\n",
    "    \"*#..#\",\n",
    "    \".#*#.\",\n",
    "    \"*...*\"\n",
    "]\n",
    "K = 2\n",
    "print(expected_length(field, K))"
   ]
  },
  {
   "cell_type": "code",
   "execution_count": 69,
   "id": "16378a7f",
   "metadata": {},
   "outputs": [
    {
     "name": "stdout",
     "output_type": "stream",
     "text": [
      "[[inf, 24, 2, 6, 12, 18, 24, 3, 8, 10, 14, 16, 25, 4, 10, 16, 26], [24, inf, 24, 18, 12, 6, 2, 25, 16, 14, 10, 8, 3, 26, 16, 10, 4], [2, 24, inf, 6, 12, 18, 24, 1, 8, 10, 14, 16, 25, 2, 10, 16, 26], [6, 18, 6, inf, 6, 12, 18, 7, 2, 4, 8, 10, 19, 8, 4, 10, 20], [12, 12, 12, 6, inf, 6, 12, 13, 4, 2, 2, 4, 13, 14, 4, 4, 14], [18, 6, 18, 12, 6, inf, 6, 19, 10, 8, 4, 2, 7, 20, 10, 4, 8], [24, 2, 24, 18, 12, 6, inf, 25, 16, 14, 10, 8, 1, 26, 16, 10, 2], [3, 25, 1, 7, 13, 19, 25, inf, 9, 11, 15, 17, 26, 1, 11, 17, 27], [8, 16, 8, 2, 4, 10, 16, 9, inf, 2, 6, 8, 17, 10, 2, 8, 18], [10, 14, 10, 4, 2, 8, 14, 11, 2, inf, 4, 6, 15, 12, 2, 6, 16], [14, 10, 14, 8, 2, 4, 10, 15, 6, 4, inf, 2, 11, 16, 6, 2, 12], [16, 8, 16, 10, 4, 2, 8, 17, 8, 6, 2, inf, 9, 18, 8, 2, 10], [25, 3, 25, 19, 13, 7, 1, 26, 17, 15, 11, 9, inf, 27, 17, 11, 1], [4, 26, 2, 8, 14, 20, 26, 1, 10, 12, 16, 18, 27, inf, 12, 18, 28], [10, 16, 10, 4, 4, 10, 16, 11, 2, 2, 6, 8, 17, 12, inf, 8, 18], [16, 10, 16, 10, 4, 4, 10, 17, 8, 6, 2, 2, 11, 18, 8, inf, 12], [26, 4, 26, 20, 14, 8, 2, 27, 18, 16, 12, 10, 1, 28, 18, 12, inf]]\n",
      "1.325545043192102\n"
     ]
    }
   ],
   "source": []
  },
  {
   "cell_type": "code",
   "execution_count": null,
   "id": "c294b3a8",
   "metadata": {},
   "outputs": [],
   "source": []
  }
 ],
 "metadata": {
  "kernelspec": {
   "display_name": "Python 3 (ipykernel)",
   "language": "python",
   "name": "python3"
  },
  "language_info": {
   "codemirror_mode": {
    "name": "ipython",
    "version": 3
   },
   "file_extension": ".py",
   "mimetype": "text/x-python",
   "name": "python",
   "nbconvert_exporter": "python",
   "pygments_lexer": "ipython3",
   "version": "3.10.13"
  }
 },
 "nbformat": 4,
 "nbformat_minor": 5
}
