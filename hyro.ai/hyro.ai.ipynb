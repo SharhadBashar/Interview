{
 "cells": [
  {
   "cell_type": "markdown",
   "id": "75f630d6",
   "metadata": {},
   "source": [
    "Given a directed graph with n nodes and no self loops and 2 nodes u and v, find if theres a path betwwen them"
   ]
  },
  {
   "cell_type": "code",
   "execution_count": 1,
   "id": "c020bff7",
   "metadata": {},
   "outputs": [],
   "source": [
    "from collections import defaultdict"
   ]
  },
  {
   "cell_type": "code",
   "execution_count": 23,
   "id": "144db76a",
   "metadata": {},
   "outputs": [],
   "source": [
    "class Graph:\n",
    "    def __init__(self, verticies):\n",
    "        self.V = verticies\n",
    "        self.graph = defaultdict(list)\n",
    "    \n",
    "    # u has a path to v\n",
    "    def add_edge(self, u, v):\n",
    "        self.graph[u].append(v)\n",
    "        \n",
    "    def has_path(self, s, d):\n",
    "        visited = [False] * self.V\n",
    "        queue = []\n",
    "        queue.append(s)\n",
    "        visited[s] = True\n",
    "        \n",
    "        while queue:\n",
    "            top = queue.pop() #might have to pass in 0\n",
    "            \n",
    "            if (top == d):\n",
    "                return True\n",
    "            \n",
    "            for i in self.graph[top]:\n",
    "                if (visited[i] == False):\n",
    "                    queue.append(i)\n",
    "                    visited[i] = True\n",
    "        \n",
    "        return False\n",
    "    \n",
    "    def get_path(self, u, d, visited, path):\n",
    "        visited[u] = True\n",
    "        path.append(u)\n",
    "        \n",
    "        if (u == d):\n",
    "            return (path)\n",
    "        \n",
    "        else:\n",
    "            for i in self.graph[u]:\n",
    "                if (visited[i] == False):\n",
    "                    new_path = self.get_path(i, d, visited, path)\n",
    "                    if (new_path != None):\n",
    "                        path.pop()\n",
    "                        visited[u] = False\n",
    "                        return self.get_path(i, d, visited, path)\n",
    "        \n",
    "        path.pop()\n",
    "        visited[u] = False\n",
    "        \n",
    "    def get_path_starter(self, s, d):\n",
    "        visited = [False] * self.V\n",
    "        path = []\n",
    "        self.get_path(s, d, visited, path)\n",
    "        "
   ]
  },
  {
   "cell_type": "code",
   "execution_count": 24,
   "id": "dbff2bb1",
   "metadata": {},
   "outputs": [
    {
     "name": "stdout",
     "output_type": "stream",
     "text": [
      "True\n",
      "None\n"
     ]
    }
   ],
   "source": [
    "# [ [1, 2], [2, 3] , [3, 4],  [4, 5] ]\n",
    "\n",
    "g = Graph(6)\n",
    "g.add_edge(0, 1)\n",
    "g.add_edge(0, 2)\n",
    "g.add_edge(0, 3)\n",
    "g.add_edge(1, 2)\n",
    "g.add_edge(2, 0)\n",
    "g.add_edge(2, 3)\n",
    "g.add_edge(3, 4)\n",
    "# g.add_edge(4, 5)\n",
    "g.add_edge(1, 5)\n",
    "\n",
    "\n",
    "\n",
    "print(g.has_path(0, 5))\n",
    "print(g.get_path_starter(0, 5))"
   ]
  },
  {
   "cell_type": "code",
   "execution_count": null,
   "id": "0c98c7a9",
   "metadata": {},
   "outputs": [],
   "source": []
  }
 ],
 "metadata": {
  "kernelspec": {
   "display_name": "Python 3",
   "language": "python",
   "name": "python3"
  },
  "language_info": {
   "codemirror_mode": {
    "name": "ipython",
    "version": 3
   },
   "file_extension": ".py",
   "mimetype": "text/x-python",
   "name": "python",
   "nbconvert_exporter": "python",
   "pygments_lexer": "ipython3",
   "version": "3.8.8"
  }
 },
 "nbformat": 4,
 "nbformat_minor": 5
}
