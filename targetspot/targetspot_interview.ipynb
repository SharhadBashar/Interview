{
 "cells": [
  {
   "cell_type": "code",
   "execution_count": 10,
   "id": "83c136b4",
   "metadata": {},
   "outputs": [
    {
     "name": "stdout",
     "output_type": "stream",
     "text": [
      "risetovotesir\n"
     ]
    },
    {
     "data": {
      "text/plain": [
       "True"
      ]
     },
     "execution_count": 10,
     "metadata": {},
     "output_type": "execute_result"
    }
   ],
   "source": [
    "'''\n",
    "“Write a program that given a string returns true or false if the string is a palindrome”\n",
    "\n",
    "Palindrome means a word or sentence that can be read both ways.\n",
    "\n",
    "Exemple of parameters that should give a valid result\n",
    "\n",
    "Rise to vote, sir!\n",
    "\n",
    "As I pee, sir, I see Pisa!\n",
    "'''\n",
    "import re\n",
    "import pandas as pd\n",
    "def is_palindrome(s):\n",
    "    s = s.lower()\n",
    "    s = s.replace(' ', '')\n",
    "    s = re.sub(r'[^\\w\\s]', '', s)\n",
    "    print(s)\n",
    "    return s == s[::-1]\n",
    "\n",
    "is_palindrome('Rise to vote, sir!')"
   ]
  },
  {
   "cell_type": "code",
   "execution_count": null,
   "id": "5563461f",
   "metadata": {},
   "outputs": [],
   "source": [
    "pyspark, databrick"
   ]
  }
 ],
 "metadata": {
  "kernelspec": {
   "display_name": "Python 3 (ipykernel)",
   "language": "python",
   "name": "python3"
  },
  "language_info": {
   "codemirror_mode": {
    "name": "ipython",
    "version": 3
   },
   "file_extension": ".py",
   "mimetype": "text/x-python",
   "name": "python",
   "nbconvert_exporter": "python",
   "pygments_lexer": "ipython3",
   "version": "3.9.12"
  }
 },
 "nbformat": 4,
 "nbformat_minor": 5
}
