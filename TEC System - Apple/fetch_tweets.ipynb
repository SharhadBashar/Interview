{
 "cells": [
  {
   "cell_type": "code",
   "execution_count": 16,
   "id": "9d34b8d2",
   "metadata": {},
   "outputs": [],
   "source": [
    "import math\n",
    "from pprint import pprint"
   ]
  },
  {
   "cell_type": "code",
   "execution_count": 42,
   "id": "7c9b7ffd",
   "metadata": {},
   "outputs": [],
   "source": [
    "class Fetch_Tweets:\n",
    "    def __init__(self):\n",
    "        self.tweets = {}\n",
    "        \n",
    "    def store_tweet(self, x, y, id):\n",
    "        self.tweets[id] = (x, y)\n",
    "    \n",
    "    def see_tweet(self):\n",
    "        pprint(self.tweets)\n",
    "        \n",
    "    def _calc_distance(self, x, y, x_user, y_user):\n",
    "        return math.sqrt(abs(x - x_user) ** 2 + (y - y_user) ** 2)\n",
    "        \n",
    "    def fetch_tweets(self, x_user, y_user, k):\n",
    "        distances = {}\n",
    "        for tweet_id, (x, y) in self.tweets.items():\n",
    "            distances[tweet_id] = (x, y, self._calc_distance(x, y, x_user, y_user))\n",
    "        sorted_tweets = dict(sorted(distances.items(), key = lambda tweet: (tweet[1][2],\n",
    "                                                                       tweet[1][0],\n",
    "                                                                       tweet[1][1],\n",
    "                                                                       tweet[0])))\n",
    "        return list(sorted_tweets.keys())[:k]"
   ]
  },
  {
   "cell_type": "code",
   "execution_count": 44,
   "id": "927a1928",
   "metadata": {},
   "outputs": [
    {
     "name": "stdout",
     "output_type": "stream",
     "text": [
      "[10, 11]\n",
      "[10, 11, 12]\n"
     ]
    }
   ],
   "source": [
    "ft = Fetch_Tweets()\n",
    "\n",
    "ft.store_tweet(1, 1, 10) \n",
    "ft.store_tweet(1, 1, 11) \n",
    "ft.store_tweet(1, 3, 12) \n",
    "\n",
    "print(ft.fetch_tweets(1, 2, 2))\n",
    "\n",
    "\n",
    "ft.store_tweet(1, 4, 13)\n",
    "\n",
    "print(ft.fetch_tweets(1, 2, 3))"
   ]
  },
  {
   "cell_type": "code",
   "execution_count": null,
   "id": "73006b8c",
   "metadata": {},
   "outputs": [],
   "source": []
  }
 ],
 "metadata": {
  "kernelspec": {
   "display_name": "Python 3 (ipykernel)",
   "language": "python",
   "name": "python3"
  },
  "language_info": {
   "codemirror_mode": {
    "name": "ipython",
    "version": 3
   },
   "file_extension": ".py",
   "mimetype": "text/x-python",
   "name": "python",
   "nbconvert_exporter": "python",
   "pygments_lexer": "ipython3",
   "version": "3.10.13"
  }
 },
 "nbformat": 4,
 "nbformat_minor": 5
}
