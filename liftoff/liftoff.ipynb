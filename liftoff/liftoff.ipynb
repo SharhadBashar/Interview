{
 "cells": [
  {
   "cell_type": "code",
   "execution_count": 27,
   "id": "5dd9d08a",
   "metadata": {},
   "outputs": [],
   "source": [
    "def solution(pattern, s):\n",
    "    s_array = list(s)\n",
    "    s_int_array = []\n",
    "    match = 0\n",
    "    str_s = ''\n",
    "    for s_char in s_array:\n",
    "        if (s_char == 'a' or s_char == 'e' or s_char == 'i' or s_char == 'o' or s_char == 'u' or s_char == 'y'):\n",
    "            s_int_array.append('0')\n",
    "        else:\n",
    "            s_int_array.append('1')\n",
    "    str_s = str_s.join(s_int_array)\n",
    "    for i in range(len(str_s) - len(pattern) + 1):\n",
    "        if (str_s[i: i + len(pattern)] == pattern):\n",
    "            match += 1\n",
    "    return match"
   ]
  },
  {
   "cell_type": "code",
   "execution_count": 28,
   "id": "a42225af",
   "metadata": {},
   "outputs": [
    {
     "name": "stdout",
     "output_type": "stream",
     "text": [
      "9\n"
     ]
    }
   ],
   "source": [
    "m = solution(\"00\", \"aaaaaaaaaa\")\n",
    "print(m)"
   ]
  },
  {
   "cell_type": "code",
   "execution_count": 29,
   "id": "f70c5f10",
   "metadata": {},
   "outputs": [],
   "source": [
    "from collections import Counter\n",
    "def classNames( A, B):\n",
    "    # count characters\n",
    "    dictA = Counter(A)\n",
    "    dictB = Counter(B)\n",
    "\n",
    "    # we can't add new characters, only swap\n",
    "    if dictA.keys() != dictB.keys() or len(A) != len(B):\n",
    "        return False\n",
    "\n",
    "    # we can always do single swap of one char to another char for correct location\n",
    "    # so we only need to check if we can count same or not\n",
    "    for char in dictA.keys():\n",
    "        if dictA[char] != dictB[char]:\n",
    "            # can we make char count swap, so count for this char in A become equal to B\n",
    "            for charswap, valswap in dictA.items():\n",
    "                if  valswap == dictB[char]:\n",
    "                    dictA[char], dictA[charswap] = dictA[charswap], dictA[char]\n",
    "                    break\n",
    "            # swap failed\n",
    "            if dictA[char] != dictB[char]: return False\n",
    "        # making zero, so in future we don't use this for swap\n",
    "        dictA[char] = 0\n",
    "    return True"
   ]
  },
  {
   "cell_type": "code",
   "execution_count": 31,
   "id": "1e02273b",
   "metadata": {},
   "outputs": [
    {
     "data": {
      "text/plain": [
       "False"
      ]
     },
     "execution_count": 31,
     "metadata": {},
     "output_type": "execute_result"
    }
   ],
   "source": [
    "classNames('abcbdb', 'bbbcca')"
   ]
  },
  {
   "cell_type": "code",
   "execution_count": 37,
   "id": "a09cf486",
   "metadata": {},
   "outputs": [],
   "source": [
    "from collections import Counter\n",
    "def solution(className, methodName):\n",
    "    dict_class = Counter(className)\n",
    "    dict_method = Counter(methodName)\n",
    "    \n",
    "    if (len(className) != len(methodName) or dict_class.keys() != dict_method.keys()):\n",
    "        return False\n",
    "    \n",
    "    for char_class in dict_class.keys():\n",
    "        if (dict_class[char_class] != dict_method[char_class]):\n",
    "            for char, val in dict_class.items():\n",
    "                if (val == dict_method[char_class]):\n",
    "                    dict_class[char_class], dict_class[char] = dict_class[char], dict_class[char_class]\n",
    "                     \n",
    "                    break\n",
    "            if (dict_class[char_class] != dict_method[char_class]):\n",
    "                return False\n",
    "        dict_class[char_class] = 0\n",
    "    return True "
   ]
  },
  {
   "cell_type": "code",
   "execution_count": 38,
   "id": "65b0bab6",
   "metadata": {},
   "outputs": [
    {
     "data": {
      "text/plain": [
       "True"
      ]
     },
     "execution_count": 38,
     "metadata": {},
     "output_type": "execute_result"
    }
   ],
   "source": [
    "solution('abbzccc', 'babzzcz')"
   ]
  },
  {
   "cell_type": "code",
   "execution_count": 57,
   "id": "2c0bb2f8",
   "metadata": {},
   "outputs": [
    {
     "name": "stdout",
     "output_type": "stream",
     "text": [
      "ababa\n"
     ]
    }
   ],
   "source": [
    "# Python3 program to find the longest palindrome by removing\n",
    "# or shuffling characters from the given string\n",
    "\n",
    "# Function to find the longest palindrome by removing\n",
    "# or shuffling characters from the given string\n",
    "def findLongestPalindrome(s):\n",
    "\t\n",
    "\tcount = [0]*256\n",
    "\tfor i in range(len(s)):\n",
    "\t\tcount[ord(s[i])] += 1\n",
    "\n",
    "\tbeg = \"\"\n",
    "\tmid = \"\"\n",
    "\tend = \"\"\n",
    "\n",
    "\tch = ord('a')\n",
    "\twhile ch <= ord('z'):\n",
    "\t\tif (count[ch] & 1):\n",
    "\t\t\tmid = ch\n",
    "\n",
    "\t\t\tcount[ch] -= 1\n",
    "\t\t\tch -= 1\n",
    "\n",
    "\t\telse:\n",
    "\t\t\tfor i in range(count[ch]//2):\n",
    "\t\t\t\tbeg += chr(ch)\n",
    "\t\tch += 1\n",
    "\n",
    "\tend = beg\n",
    "\n",
    "\tend = end[::-1]\n",
    "\n",
    "\treturn beg + chr(mid) + end\n",
    "\n",
    "# Driver code\n",
    "s = \"aaabb\"\n",
    "\n",
    "print(findLongestPalindrome(s))\n",
    "\n",
    "# This code is contributed by mohit kumar 29\n"
   ]
  },
  {
   "cell_type": "code",
   "execution_count": 56,
   "id": "e37bc8fa",
   "metadata": {},
   "outputs": [
    {
     "data": {
      "text/plain": [
       "'ababa'"
      ]
     },
     "execution_count": 56,
     "metadata": {},
     "output_type": "execute_result"
    }
   ],
   "source": [
    "findLongestPalindrome('aaabb')"
   ]
  },
  {
   "cell_type": "code",
   "execution_count": null,
   "id": "64e467b2",
   "metadata": {},
   "outputs": [],
   "source": []
  }
 ],
 "metadata": {
  "kernelspec": {
   "display_name": "Python 3",
   "language": "python",
   "name": "python3"
  },
  "language_info": {
   "codemirror_mode": {
    "name": "ipython",
    "version": 3
   },
   "file_extension": ".py",
   "mimetype": "text/x-python",
   "name": "python",
   "nbconvert_exporter": "python",
   "pygments_lexer": "ipython3",
   "version": "3.8.8"
  }
 },
 "nbformat": 4,
 "nbformat_minor": 5
}
