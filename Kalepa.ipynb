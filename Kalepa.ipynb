{
 "cells": [
  {
   "cell_type": "code",
   "execution_count": 1,
   "id": "73d1714f",
   "metadata": {},
   "outputs": [
    {
     "data": {
      "text/plain": [
       "'\\nYou get a set of tiles with some strings on them and a word. \\nWrite a function that determines whether the word can be constructed using the tiles. \\nAny tile can be reused multiple times.\\n\\nExamples:\\ntiles = {\"ca\", \"at\"}\\nword = \"cat\"\\noutput: False\\n \\ntiles = {\"ca\", \"at\"}\\nword = \"caat\"\\noutput: True\\n'"
      ]
     },
     "execution_count": 1,
     "metadata": {},
     "output_type": "execute_result"
    }
   ],
   "source": [
    "'''\n",
    "You get a set of tiles with some strings on them and a word. \n",
    "Write a function that determines whether the word can be constructed using the tiles. \n",
    "Any tile can be reused multiple times.\n",
    "\n",
    "Examples:\n",
    "tiles = {\"ca\", \"at\"}\n",
    "word = \"cat\"\n",
    "output: False\n",
    " \n",
    "tiles = {\"ca\", \"at\"}\n",
    "word = \"caat\"\n",
    "output: True\n",
    "\n",
    "tiles = {\"a\", \"ct\"}\n",
    "'''"
   ]
  },
  {
   "cell_type": "code",
   "execution_count": 45,
   "id": "5957d10b",
   "metadata": {},
   "outputs": [
    {
     "name": "stdout",
     "output_type": "stream",
     "text": [
      "['abc', 'ab', 'd']\n"
     ]
    },
    {
     "data": {
      "text/plain": [
       "False"
      ]
     },
     "execution_count": 45,
     "metadata": {},
     "output_type": "execute_result"
    }
   ],
   "source": [
    "def func_temp(titles, word):\n",
    "    if (word in title): return True\n",
    "    i = 0\n",
    "    temp_word = ''\n",
    "    titles = list(titles)\n",
    "    while len(word) > 0:\n",
    "        if titles[i] in word:\n",
    "            word = word.replace(titles[i], '')\n",
    "        else:\n",
    "            i += 1\n",
    "        if i == len(titles):\n",
    "            break\n",
    "    return len(word) == 0\n",
    "\n",
    "\n",
    "def func(titles, word):\n",
    "    if (word in titles): return True\n",
    "    i = 0\n",
    "    while len(word) > 0:\n",
    "        temp_word = word[:i]\n",
    "        if temp_word in titles:\n",
    "            word = word[i:]\n",
    "            i = 0\n",
    "        else:\n",
    "            i += 1\n",
    "        if (word == ''): return True\n",
    "        if (i > len(word)): break\n",
    "    return False\n",
    "            \n",
    "# tiles = [\"a\", \"ct\"]\n",
    "# word = \"cat\"\n",
    "\n",
    "tiles = [\"ab\", \"abc\", \"d\"] \n",
    "word = \"abcd\"\n",
    "func(tiles, word)\n",
    "\n",
    "scrabble task"
   ]
  },
  {
   "cell_type": "code",
   "execution_count": null,
   "id": "3449c032",
   "metadata": {},
   "outputs": [],
   "source": []
  }
 ],
 "metadata": {
  "kernelspec": {
   "display_name": "Python 3 (ipykernel)",
   "language": "python",
   "name": "python3"
  },
  "language_info": {
   "codemirror_mode": {
    "name": "ipython",
    "version": 3
   },
   "file_extension": ".py",
   "mimetype": "text/x-python",
   "name": "python",
   "nbconvert_exporter": "python",
   "pygments_lexer": "ipython3",
   "version": "3.9.12"
  }
 },
 "nbformat": 4,
 "nbformat_minor": 5
}
