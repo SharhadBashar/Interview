{
 "cells": [
  {
   "cell_type": "code",
   "execution_count": 1,
   "id": "bcedf07d",
   "metadata": {},
   "outputs": [
    {
     "data": {
      "text/plain": [
       "'ereht olleh'"
      ]
     },
     "execution_count": 1,
     "metadata": {},
     "output_type": "execute_result"
    }
   ],
   "source": [
    "#define a function that takes a string as input and reverses string\n",
    "def reverse_string(s):\n",
    "    return s[::-1]\n",
    "reverse_string('hello there')"
   ]
  },
  {
   "cell_type": "code",
   "execution_count": 3,
   "id": "bfd011c9",
   "metadata": {},
   "outputs": [
    {
     "data": {
      "text/plain": [
       "False"
      ]
     },
     "execution_count": 3,
     "metadata": {},
     "output_type": "execute_result"
    }
   ],
   "source": [
    "#write a function that takes a string and returns true if its a palindrome\n",
    "def is_palindrome(s):\n",
    "    return s == s[::-1]\n",
    "is_palindrome('racecar')\n",
    "is_palindrome('dave')"
   ]
  },
  {
   "cell_type": "code",
   "execution_count": 12,
   "id": "ced6f482",
   "metadata": {},
   "outputs": [
    {
     "data": {
      "text/plain": [
       "False"
      ]
     },
     "execution_count": 12,
     "metadata": {},
     "output_type": "execute_result"
    }
   ],
   "source": [
    "#write a function that takes a string and returns true if its a palindrome for very large strings\n",
    "def is_palindrome_efficient(s):\n",
    "    n = len(s)\n",
    "    if (n == 0): return True\n",
    "    for i in range(int(n / 2)):\n",
    "        if (s[i] != s[n - i - 1]):\n",
    "            return False\n",
    "    return True\n",
    "is_palindrome_efficient('racecar')\n",
    "# is_palindrome_efficient('dave')"
   ]
  },
  {
   "cell_type": "code",
   "execution_count": 28,
   "id": "48036ee0",
   "metadata": {},
   "outputs": [
    {
     "data": {
      "text/plain": [
       "229"
      ]
     },
     "execution_count": 28,
     "metadata": {},
     "output_type": "execute_result"
    }
   ],
   "source": [
    "#take a function that takes a int as the number of players, and do the circle game\n",
    "\n",
    "def circle_game(players):\n",
    "    if players < 2:\n",
    "        return 1\n",
    "    a = [0] * players\n",
    "    for i in range(players):\n",
    "        a[i] = i + 1\n",
    "    \n",
    "    pos = 0\n",
    "    \n",
    "    while(len(a) > 1):\n",
    "        pos += 1\n",
    "        pos %= len(a)\n",
    "        del a[pos]\n",
    "    return a[0]\n",
    "    \n",
    "circle_game(1138)"
   ]
  },
  {
   "cell_type": "code",
   "execution_count": 159,
   "id": "1b69cac7",
   "metadata": {},
   "outputs": [
    {
     "name": "stdout",
     "output_type": "stream",
     "text": [
      "[-1]\n",
      "[0, -1]\n",
      "[0, 1, -1]\n",
      "[0, 1, 2, -1]\n",
      "[0, 1, 2, -1]\n",
      "[0, 1, 2]\n",
      "[0, 1]\n",
      "[0, 2, -1]\n",
      "[0, 2, 1, -1]\n",
      "[0, 2, 1, -1]\n",
      "[0, 2, 1]\n",
      "[0, 2]\n",
      "[0]\n",
      "[1, -1]\n",
      "[1, 0, -1]\n",
      "[1, 0, 2, -1]\n",
      "[1, 0, 2, -1]\n",
      "[1, 0, 2]\n",
      "[1, 0]\n",
      "[1, 2, -1]\n",
      "[1, 2, 0, -1]\n",
      "[1, 2, 0, -1]\n",
      "[1, 2, 0]\n",
      "[1, 2]\n",
      "[1]\n",
      "[2, -1]\n",
      "[2, 0, -1]\n",
      "[2, 0, 1, -1]\n",
      "[2, 0, 1, -1]\n",
      "[2, 0, 1]\n",
      "[2, 0]\n",
      "[2, 1, -1]\n",
      "[2, 1, 0, -1]\n",
      "[2, 1, 0, -1]\n",
      "[2, 1, 0]\n",
      "[2, 1]\n",
      "[2]\n"
     ]
    },
    {
     "data": {
      "text/plain": [
       "[[1, 2, 3], [1, 3, 2], [2, 1, 3], [2, 3, 1], [3, 1, 2], [3, 2, 1]]"
      ]
     },
     "execution_count": 159,
     "metadata": {},
     "output_type": "execute_result"
    }
   ],
   "source": [
    "#function that takes a list of int returns a list of list that returns all the permutations of that list\n",
    "from itertools import permutations\n",
    "def permutation_built_in(a):\n",
    "    output = permutations(a)\n",
    "    return list(output)\n",
    "\n",
    "def permutations_long(a):\n",
    "    if (len(a)) == 0:\n",
    "        return []\n",
    "    if (len(a)) == 1:\n",
    "        return [a]\n",
    "    \n",
    "    output = []\n",
    "    \n",
    "    for i in range(len(a)):\n",
    "        value = a[i]\n",
    "        \n",
    "        remaining_a = a[: i] + a[i + 1:]\n",
    "        for p in permutations_long(remaining_a):\n",
    "            output.append([value] + p)\n",
    "    return output\n",
    "\n",
    "# permutation_built_in([1, 2, 3])\n",
    "permutations_long([1, 2, 3])\n",
    "\n",
    "def permutation_efficient(a):\n",
    "    if a is None:\n",
    "        return []\n",
    "    permutation = []\n",
    "    output = []\n",
    "    stack = [-1]\n",
    "    while (len(stack)):\n",
    "        print(stack)\n",
    "        i = stack.pop()\n",
    "        i += 1\n",
    "        while i < len(a):\n",
    "            if (a[i] not in permutation):\n",
    "                break\n",
    "            i += 1\n",
    "        else:\n",
    "            if len(permutation):\n",
    "                permutation.pop()\n",
    "            continue\n",
    "        stack.append(i)\n",
    "        stack.append(-1)\n",
    "        permutation.append(a[i])\n",
    "        if len(permutation) == len(a):\n",
    "            print(stack)\n",
    "            output.append(list(permutation))\n",
    "    return output\n",
    "permutation_efficient([1, 2, 3])    "
   ]
  },
  {
   "cell_type": "code",
   "execution_count": 161,
   "id": "110ce1c8",
   "metadata": {},
   "outputs": [],
   "source": [
    "def permutation_next(a, stack = []):\n",
    "    if a is None:\n",
    "        return [], []\n",
    "    permutation = []\n",
    "    output = []\n",
    "    if stack == []:\n",
    "        stack = [-1]\n",
    "    print(stack)\n",
    "    while (len(stack)):\n",
    "        print(stack)\n",
    "        i = stack.pop()\n",
    "        i += 1\n",
    "        while i < len(a):\n",
    "            if (a[i] not in permutation):\n",
    "                break\n",
    "            i += 1\n",
    "        else:\n",
    "            if len(permutation):\n",
    "                permutation.pop()\n",
    "            continue\n",
    "        stack.append(i)\n",
    "        stack.append(-1)\n",
    "        permutation.append(a[i])\n",
    "        if len(permutation) == len(a):\n",
    "            return permutation, stack\n",
    "#             output.append(list(permutation))\n",
    "#     return output"
   ]
  },
  {
   "cell_type": "code",
   "execution_count": null,
   "id": "27c3bb21",
   "metadata": {},
   "outputs": [],
   "source": []
  },
  {
   "cell_type": "code",
   "execution_count": 162,
   "id": "aa2ce591",
   "metadata": {},
   "outputs": [
    {
     "name": "stdout",
     "output_type": "stream",
     "text": [
      "[-1]\n",
      "[-1]\n",
      "[0, -1]\n",
      "[0, 1, -1]\n",
      "[0, 1, 2, -1]\n",
      "[3, 2, 1]\n"
     ]
    }
   ],
   "source": [
    "permumation, stack = permutation_next([1, 2, 3])\n",
    "print(stack)\n",
    "print(permutation)"
   ]
  },
  {
   "cell_type": "code",
   "execution_count": 163,
   "id": "5efb68cf",
   "metadata": {},
   "outputs": [
    {
     "name": "stdout",
     "output_type": "stream",
     "text": [
      "[0, 1, 2]\n",
      "[0, 1, 2]\n",
      "[0, 1]\n",
      "[0, 2, -1]\n",
      "[0, 2, 0, -1]\n",
      "[3, 2, 1]\n"
     ]
    }
   ],
   "source": [
    "\n",
    "permumation, stack = permutation_next([1, 2, 3], stack[:-1])\n",
    "\n",
    "print(permutation)"
   ]
  },
  {
   "cell_type": "code",
   "execution_count": null,
   "id": "dadf9dd6",
   "metadata": {},
   "outputs": [],
   "source": []
  }
 ],
 "metadata": {
  "kernelspec": {
   "display_name": "Python 3",
   "language": "python",
   "name": "python3"
  },
  "language_info": {
   "codemirror_mode": {
    "name": "ipython",
    "version": 3
   },
   "file_extension": ".py",
   "mimetype": "text/x-python",
   "name": "python",
   "nbconvert_exporter": "python",
   "pygments_lexer": "ipython3",
   "version": "3.8.8"
  }
 },
 "nbformat": 4,
 "nbformat_minor": 5
}
