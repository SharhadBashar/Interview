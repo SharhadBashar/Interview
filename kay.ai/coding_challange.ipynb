{
 "cells": [
  {
   "cell_type": "markdown",
   "id": "227a5dd0-961d-4160-a0da-f6113ec2ef8e",
   "metadata": {},
   "source": [
    "### Create a function that takes a list of numbers and returns all numbers greater than or equal to x"
   ]
  },
  {
   "cell_type": "code",
   "execution_count": 7,
   "id": "54d18be0-5c92-410b-8400-282b97f0b26e",
   "metadata": {},
   "outputs": [],
   "source": [
    "def greater_than_x(x, nums):\n",
    "    return [num for num in nums if num >= x]\n",
    "\n",
    "def greater_than_x(x, nums):\n",
    "    return (num for num in nums if num >= x)"
   ]
  },
  {
   "cell_type": "code",
   "execution_count": 8,
   "id": "6c847ee7-ae4f-4b99-816c-896f061fef9c",
   "metadata": {},
   "outputs": [
    {
     "name": "stdout",
     "output_type": "stream",
     "text": [
      "<generator object greater_than_x.<locals>.<genexpr> at 0x1099e2880>\n"
     ]
    }
   ],
   "source": [
    "print(greater_than_x(5, [1, 3, 4, 5, 6, 7, 8, 10]))"
   ]
  },
  {
   "cell_type": "markdown",
   "id": "8778695c-dab0-45de-a3ae-198dc3f2ff37",
   "metadata": {},
   "source": [
    "### Implement binary search to do this in O(logn) time"
   ]
  },
  {
   "cell_type": "code",
   "execution_count": 15,
   "id": "1ba0dd1c-cd1c-43bf-81a4-b53b15b5cbd5",
   "metadata": {},
   "outputs": [],
   "source": [
    "def greater_than_x(x, sorted_nums):\n",
    "    index = -1\n",
    "    left = 0\n",
    "    right = len(sorted_nums) - 1\n",
    "\n",
    "    while (left <= right):\n",
    "        mid = (right + left) // 2\n",
    "\n",
    "        if (sorted_nums[mid] >= x):\n",
    "            index = mid\n",
    "            right = mid - 1\n",
    "        else:\n",
    "            left = mid + 1\n",
    "    return sorted_nums[index:]"
   ]
  },
  {
   "cell_type": "code",
   "execution_count": 16,
   "id": "679f351e-58ef-4bd8-a94b-bc8d65c33330",
   "metadata": {},
   "outputs": [
    {
     "name": "stdout",
     "output_type": "stream",
     "text": [
      "[6, 7, 8, 10]\n"
     ]
    }
   ],
   "source": [
    "print(greater_than_x(5.5, [1, 3, 4, 5, 6, 7, 8, 10]))"
   ]
  },
  {
   "cell_type": "markdown",
   "id": "9a8bf13a-98fc-43cb-990e-59da54c9c6b1",
   "metadata": {},
   "source": [
    "### Depth first search to traverse all nodes"
   ]
  },
  {
   "cell_type": "code",
   "execution_count": 23,
   "id": "492ac85e-93f4-46ed-8b1c-66e58deb045b",
   "metadata": {},
   "outputs": [],
   "source": [
    "def dfs(graph, start = None, visited = None):\n",
    "    if (not start):\n",
    "        try:\n",
    "            start = next(iter(graph))\n",
    "        except:\n",
    "            return set()\n",
    "    \n",
    "    if (not visited):\n",
    "        visited = set()\n",
    "    \n",
    "    visited.add(start)\n",
    "    print(start)\n",
    "    \n",
    "    for neighbour in graph[start]:\n",
    "        if (neighbour not in visited):\n",
    "            dfs(graph, neighbour, visited)\n",
    "\n",
    "    return visited\n",
    "    "
   ]
  },
  {
   "cell_type": "code",
   "execution_count": 27,
   "id": "739f5dc6-bc0f-4cc8-bc3f-5e91eff64f52",
   "metadata": {},
   "outputs": [
    {
     "name": "stdout",
     "output_type": "stream",
     "text": [
      "None\n"
     ]
    }
   ],
   "source": [
    "graph = {\n",
    "    'A': ['B', 'C'],\n",
    "    'B': ['A', 'D', 'E'],\n",
    "    'C': ['A', 'F'],\n",
    "    'D': ['B'],\n",
    "    'E': ['B', 'F'],\n",
    "    'F': ['C', 'E']\n",
    "}\n",
    "dfs(graph, 'A')\n"
   ]
  },
  {
   "cell_type": "code",
   "execution_count": 30,
   "id": "862ffb02-ecf0-4e76-b7f7-02538d09dc8e",
   "metadata": {},
   "outputs": [
    {
     "name": "stdout",
     "output_type": "stream",
     "text": [
      "A\n"
     ]
    }
   ],
   "source": [
    "def get_first_key(graph):\n",
    "    for key in graph:\n",
    "        return key\n",
    "print(get_first_key(graph))"
   ]
  }
 ],
 "metadata": {
  "kernelspec": {
   "display_name": "Python 3 (ipykernel)",
   "language": "python",
   "name": "python3"
  },
  "language_info": {
   "codemirror_mode": {
    "name": "ipython",
    "version": 3
   },
   "file_extension": ".py",
   "mimetype": "text/x-python",
   "name": "python",
   "nbconvert_exporter": "python",
   "pygments_lexer": "ipython3",
   "version": "3.11.9"
  }
 },
 "nbformat": 4,
 "nbformat_minor": 5
}
