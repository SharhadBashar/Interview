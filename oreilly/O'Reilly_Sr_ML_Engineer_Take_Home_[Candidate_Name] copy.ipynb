{
  "nbformat": 4,
  "nbformat_minor": 0,
  "metadata": {
    "colab": {
      "provenance": []
    },
    "kernelspec": {
      "name": "python3",
      "display_name": "Python 3"
    }
  },
  "cells": [
    {
      "cell_type": "markdown",
      "metadata": {
        "id": "nw38KAbDKSOm"
      },
      "source": [
        "# O'Reilly (Sr.) Machine Learning Engineer Takehome\n",
        "\n",
        "Welcome to the evaluation project for the (Sr.) Machine Learning Engineer position at O'Reilly Media. In this project you will evaluate a search academic dataset built using common learn-to-rank features, build a ranking model using the dataset, and discuss how additional features could be used and how they would impact the performance of the model.\n",
        "\n",
        "Overview:\n",
        "- Make a copy of this notebook\n",
        "- Fill in the contact info\n",
        "- Download the dataset to the notebook (link in Step 3.2 comments)\n",
        "- Preprocess and evaluate the dataset\n",
        "- Build a **ranking** model\n",
        "- Evaluate your ranking model using a metric of your choice\n",
        "- Answer discussion questions\n",
        "- Submit your notebook\n",
        "\n",
        "\n",
        "## Notes\n",
        "\n",
        "\n",
        "\n",
        "*   Throughout the notebook you should include notes explaining your choices and what you are doing. Your thought process is more important than the actual performance of your model.\n",
        "*   Create as many cells as you want. The exisiting cells are just provided to provide some initial organization.\n",
        "* You may use any choice of libraries or frameworks."
      ]
    },
    {
      "cell_type": "markdown",
      "source": [
        "# Step 1. Make a copy of this Colab notebook and work on your personal copy"
      ],
      "metadata": {
        "id": "nNewGEbOaxSp"
      }
    },
    {
      "cell_type": "markdown",
      "source": [
        "# Step 2. Fill in your contact information\n",
        "\n",
        "Candidate Full Name:\n",
        "\n",
        "Candidate Email:"
      ],
      "metadata": {
        "id": "81Z26LXfZmv7"
      }
    },
    {
      "cell_type": "markdown",
      "source": [
        "# Step 3. Create the Model"
      ],
      "metadata": {
        "id": "GKrjg_MS-5_t"
      }
    },
    {
      "cell_type": "markdown",
      "source": [
        "### 1) Imports"
      ],
      "metadata": {
        "id": "Pdtz-fNP-eq7"
      }
    },
    {
      "cell_type": "code",
      "metadata": {
        "id": "vQbF5lfeQ7B-"
      },
      "source": [
        "# Import dependencies here"
      ],
      "execution_count": null,
      "outputs": []
    },
    {
      "cell_type": "markdown",
      "metadata": {
        "id": "1am1Iv_LWR2W"
      },
      "source": [
        "### 2) Download Dataset"
      ]
    },
    {
      "cell_type": "code",
      "metadata": {
        "id": "p_4tmowxOHAF"
      },
      "source": [
        "# Download the dataset located at https://storage.googleapis.com/personalization-takehome/MSLR-WEB10K.zip\n",
        "# You can read about the features included in the dataset here: https://www.microsoft.com/en-us/research/project/mslr/\n"
      ],
      "execution_count": null,
      "outputs": []
    },
    {
      "cell_type": "markdown",
      "metadata": {
        "id": "aQdKuIDNWVb8"
      },
      "source": [
        "### 3) Preprocess and evaluate the dataset"
      ]
    },
    {
      "cell_type": "code",
      "metadata": {
        "id": "WHEqbC9sOrvb"
      },
      "source": [
        "# Preprocess and evaluate the dataset\n"
      ],
      "execution_count": null,
      "outputs": []
    },
    {
      "cell_type": "markdown",
      "metadata": {
        "id": "OICi0aAuWclQ"
      },
      "source": [
        "### 4) Build ranking model"
      ]
    },
    {
      "cell_type": "code",
      "metadata": {
        "id": "frHrBKmTSUsq"
      },
      "source": [
        "# Build ranking model"
      ],
      "execution_count": null,
      "outputs": []
    },
    {
      "cell_type": "markdown",
      "metadata": {
        "id": "BBtVqWRSWx_g"
      },
      "source": [
        "### 5) Evaluate model performance"
      ]
    },
    {
      "cell_type": "code",
      "metadata": {
        "id": "FpaP8jesTQMj"
      },
      "source": [
        "# Evaluate model performance"
      ],
      "execution_count": null,
      "outputs": []
    },
    {
      "cell_type": "markdown",
      "source": [
        "# Step 4. Discussion"
      ],
      "metadata": {
        "id": "yo89zS_g--XG"
      }
    },
    {
      "cell_type": "markdown",
      "metadata": {
        "id": "-f3RmmCUTdNp"
      },
      "source": [
        "### 1) Please answer the following questions about your choices:\n",
        "- Discuss your model and why you chose the model you chose (eg architecture, design, loss functions, etc)\n",
        "- Why did you choose your metric to evaluate the model?\n",
        "- How well would you say your model performed?\n",
        "- If you had more time what else would you want to try?"
      ]
    },
    {
      "cell_type": "markdown",
      "metadata": {
        "id": "zYwv7d8pTn6V"
      },
      "source": [
        "### 2) Please answer the following questions about how you would use additional features:\n",
        "\n",
        "- If you had an additional feature for each row of the dataset that was unique identifier for the user performing the query e.g. `user_id`, how could you use it to improve the performance of the model?\n",
        "- If you had the additional features of: `query_text` or the actual textual query itself, as well as document text features like `title_text`, `body_text`, `anchor_text`, `url` for the document, how would you include them in your model (or any model) to improve its performance?\n",
        "\n",
        "\n"
      ]
    },
    {
      "cell_type": "markdown",
      "source": [],
      "metadata": {
        "id": "XJGp9xC2uVK3"
      }
    },
    {
      "cell_type": "markdown",
      "metadata": {
        "id": "iy73cbghWBM3"
      },
      "source": [
        "# Step 5. Please submit your colab by sharing it with: qma@oreilly.com and jtorres@oreilly.com\n"
      ]
    }
  ]
}