{
 "cells": [
  {
   "cell_type": "code",
   "execution_count": 2,
   "id": "b7b36181",
   "metadata": {},
   "outputs": [
    {
     "data": {
      "text/plain": [
       "3"
      ]
     },
     "execution_count": 2,
     "metadata": {},
     "output_type": "execute_result"
    }
   ],
   "source": [
    "#numbers\n",
    "numbers = [4, 3, 2, 3, 2, 5, 4, 3]\n",
    "\n",
    "def func(numbers):\n",
    "    count = 0\n",
    "    if len(numbers) <= 2: return 0\n",
    "    first = numbers[0]\n",
    "    second = numbers[1]\n",
    "    for num in numbers[2:]:\n",
    "        if (num == first or num == second):\n",
    "            continue\n",
    "        count += 1\n",
    "    return count\n",
    "func(numbers)"
   ]
  },
  {
   "cell_type": "code",
   "execution_count": 13,
   "id": "31e225ed",
   "metadata": {},
   "outputs": [
    {
     "data": {
      "text/plain": [
       "['h--lo', '--llo', 'hello']"
      ]
     },
     "execution_count": 13,
     "metadata": {},
     "output_type": "execute_result"
    }
   ],
   "source": [
    "# skeletons\n",
    "word = 'hello'\n",
    "skeletons = ['h--lo', '--llo', 'g-llo', 'h--l', 'hello']\n",
    "\n",
    "def func(word, skeletons):\n",
    "    output = []\n",
    "    for skeleton in skeletons:\n",
    "        if (word == skeleton):\n",
    "            output.append(skeleton)\n",
    "            continue\n",
    "        if (len(word) != len(skeleton)):\n",
    "            continue\n",
    "        for i, char in enumerate(skeleton):\n",
    "            if (char != '-' and word[i] != char):\n",
    "                break\n",
    "            if (i == len(word) - 1):\n",
    "                output.append(skeleton)\n",
    "    return output\n",
    "\n",
    "func(word, skeletons)"
   ]
  },
  {
   "cell_type": "code",
   "execution_count": 11,
   "id": "a40ff746",
   "metadata": {},
   "outputs": [
    {
     "data": {
      "text/plain": [
       "'1010'"
      ]
     },
     "execution_count": 11,
     "metadata": {},
     "output_type": "execute_result"
    }
   ],
   "source": [
    "# build\n",
    "\n",
    "operations = [\n",
    "    [1, 2],\n",
    "    [1, 5],\n",
    "    [2, 5, 2],\n",
    "    [2, 6, 3],\n",
    "    [2, 2, 1],\n",
    "    [2, 3, 2]\n",
    "]\n",
    "\n",
    "def func(operations):\n",
    "    output = ''\n",
    "    line = set()\n",
    "    for operation in operations:\n",
    "        if (operation[0] == 1):\n",
    "            line.add(operation[1])\n",
    "        elif (operation[0] == 2):\n",
    "            for i in range(operation[1] - operation[2], operation[1]):\n",
    "                if (i in line):\n",
    "                    output += '0'\n",
    "                    break\n",
    "                if (i == operation[1] - 1):\n",
    "                    output += '1'\n",
    "    return output\n",
    "func(operations)"
   ]
  },
  {
   "cell_type": "code",
   "execution_count": 12,
   "id": "6e9543f2",
   "metadata": {},
   "outputs": [
    {
     "name": "stdout",
     "output_type": "stream",
     "text": [
      "{'item1': 100, 'item2': 200}\n"
     ]
    },
    {
     "data": {
      "text/plain": [
       "1360"
      ]
     },
     "execution_count": 12,
     "metadata": {},
     "output_type": "execute_result"
    }
   ],
   "source": [
    "# buy\n",
    "pricelist = ['item1: 100', 'item2: 200']\n",
    "\n",
    "logs = [\n",
    "    'sell item1, 1',\n",
    "    'sell item1, 2',\n",
    "    'sell item2, 2',\n",
    "    'discount_start item2, 40, 1',\n",
    "    'sell item2, 2',\n",
    "    'sell item1, 1',\n",
    "    'discount_end, item2',\n",
    "    'sell item2, 1'\n",
    "]\n",
    "\n",
    "def get_list(_list):\n",
    "    _dict = {}\n",
    "    for item in _list:\n",
    "        item_list = item.split(': ')\n",
    "        _dict[item_list[0]] = int(item_list[1])\n",
    "    return _dict\n",
    "\n",
    "def func(pricelist, logs):\n",
    "    profit = 0\n",
    "    discounts = {}\n",
    "    price_dict = get_list(pricelist)\n",
    "    for log in logs:\n",
    "        log = log.replace(', ', ' ')\n",
    "        temp = log.split(' ')\n",
    "        item = temp[1]\n",
    "        \n",
    "        if ('sell' in log):\n",
    "            amount = int(temp[2])\n",
    "            if (item in discounts):\n",
    "                num_to_discount = discounts[item]['limit']\n",
    "                discount_amount = discounts[item]['discount']\n",
    "                discounts[item]['limit'] = max(discounts[item]['limit'] - amount, 0)\n",
    "                profit += (price_dict[item] - discount_amount) * (amount - num_to_discount) + max(price_dict[item] * (amount - num_to_discount), 0)\n",
    "            else:\n",
    "                profit += price_dict[item] * amount\n",
    "                \n",
    "        elif ('discount_start' in log):\n",
    "            discounts[item] = {'discount': int(temp[2]), 'limit': int(temp[3])}\n",
    "            \n",
    "        elif ('discount_end' in log):\n",
    "            del discounts[item]\n",
    "    \n",
    "    return profit\n",
    "    \n",
    "func(pricelist, logs)               \n",
    "\n",
    "    \n",
    "    \n",
    "    \n"
   ]
  },
  {
   "cell_type": "code",
   "execution_count": null,
   "id": "a98bafcb",
   "metadata": {},
   "outputs": [],
   "source": []
  }
 ],
 "metadata": {
  "kernelspec": {
   "display_name": "Python 3 (ipykernel)",
   "language": "python",
   "name": "python3"
  },
  "language_info": {
   "codemirror_mode": {
    "name": "ipython",
    "version": 3
   },
   "file_extension": ".py",
   "mimetype": "text/x-python",
   "name": "python",
   "nbconvert_exporter": "python",
   "pygments_lexer": "ipython3",
   "version": "3.9.12"
  }
 },
 "nbformat": 4,
 "nbformat_minor": 5
}
