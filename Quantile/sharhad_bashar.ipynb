{
 "cells": [
  {
   "cell_type": "code",
   "execution_count": null,
   "id": "64940216",
   "metadata": {},
   "outputs": [],
   "source": [
    "'''\n",
    "It is a 6 digit number in the range 172851 - 675869\n",
    "two adjacent digits are the same\n",
    "going from left to right, digits increase or stay the same\n",
    "\n",
    "111111 yes\n",
    "223510 no next valid: 223555\n",
    "123789 no\n",
    "'''"
   ]
  },
  {
   "cell_type": "code",
   "execution_count": 1,
   "id": "72da6fc0",
   "metadata": {},
   "outputs": [],
   "source": [
    "def adjacent_num(num):\n",
    "    str_nums = str(num)\n",
    "    for i in range(1, len(str_nums)):\n",
    "        if (str_nums[i - 1] == str_nums[i]):\n",
    "            return True\n",
    "    return False\n",
    "\n",
    "def digit_increasing(num):\n",
    "    str_nums = str(num)\n",
    "    for i in range(1, len(str_nums)):\n",
    "        if (not int(str_nums[i]) >= int(str_nums[i - 1])):\n",
    "            return False\n",
    "    return True\n",
    "\n",
    "def find_next_increasing_num(num):\n",
    "    num_list = ['','','','','','']\n",
    "    str_nums = str(num)\n",
    "#     num_list[5] = str_nums[5]\n",
    "    for i in range(len(str_nums) - 1, -1, -1):\n",
    "        if (int(str_nums[i]) < int(str_nums[i - 1])):\n",
    "            num_list[i] = str_nums[i - 1]\n",
    "        else:\n",
    "            num_list[i] = str_nums[i]\n",
    "    return int(''.join(num_list))\n",
    "    \n",
    "def main(start, finish):\n",
    "    count = 0\n",
    "    i = start\n",
    "    while (i <= finish):\n",
    "        if (digit_increasing(i)):\n",
    "            if (adjacent_num(i)):\n",
    "                count += 1\n",
    "            i += 1\n",
    "        else:\n",
    "            i = find_next_increasing_num(i)\n",
    "    return count\n",
    "    "
   ]
  },
  {
   "cell_type": "code",
   "execution_count": 2,
   "id": "9b321cf6",
   "metadata": {},
   "outputs": [
    {
     "data": {
      "text/plain": [
       "50"
      ]
     },
     "execution_count": 2,
     "metadata": {},
     "output_type": "execute_result"
    }
   ],
   "source": [
    "# adjacent_num(111111)\n",
    "# digit_increasing(223456)\n",
    "# 1660\n",
    "start = 172851\n",
    "finish = 675869\n",
    "\n",
    "main(start, finish)"
   ]
  },
  {
   "cell_type": "code",
   "execution_count": 7,
   "id": "49b06cae",
   "metadata": {},
   "outputs": [],
   "source": [
    "def adjacent_num(num):\n",
    "    str_nums = str(num)\n",
    "    for i in range(1, len(str_nums)):\n",
    "        if (str_nums[i - 1] == str_nums[i]):\n",
    "            return True\n",
    "    return False\n",
    "\n",
    "def digit_increasing(num):\n",
    "    str_nums = str(num)\n",
    "    for i in range(1, len(str_nums)):\n",
    "        if (not int(str_nums[i]) >= int(str_nums[i - 1])):\n",
    "            return False\n",
    "    return True\n",
    "\n",
    "def main(start, finish):\n",
    "    count = 0\n",
    "    for i in range (start, finish + 1):\n",
    "        if (adjacent_num(i) and digit_increasing(i)):\n",
    "            count += 1\n",
    "    return count"
   ]
  },
  {
   "cell_type": "code",
   "execution_count": 8,
   "id": "0e75c14c",
   "metadata": {},
   "outputs": [
    {
     "data": {
      "text/plain": [
       "1660"
      ]
     },
     "execution_count": 8,
     "metadata": {},
     "output_type": "execute_result"
    }
   ],
   "source": [
    "start = 172851\n",
    "finish = 675869\n",
    "\n",
    "main(start, finish)"
   ]
  },
  {
   "cell_type": "code",
   "execution_count": 9,
   "id": "28ee1e47",
   "metadata": {},
   "outputs": [],
   "source": [
    "def check_num(num):\n",
    "    str_nums = str(num)\n",
    "    if (str_nums[0] == str_nums[1] or\n",
    "        str_nums[1] == str_nums[2] or\n",
    "        str_nums[2] == str_nums[3] or\n",
    "        str_nums[3] == str_nums[4] or\n",
    "        str_nums[4] == str_nums[5]):\n",
    "        for i in range(1, len(str_nums)):\n",
    "            if (not int(str_nums[i]) >= int(str_nums[i - 1])):\n",
    "                return False\n",
    "        return True\n",
    "    return False\n",
    "\n",
    "def main(start, finish):\n",
    "    count = 0\n",
    "    for i in range (start, finish + 1):\n",
    "        if (adjacent_num(i) and digit_increasing(i)):\n",
    "            count += 1\n",
    "    return count"
   ]
  },
  {
   "cell_type": "code",
   "execution_count": 10,
   "id": "a63fac30",
   "metadata": {},
   "outputs": [
    {
     "data": {
      "text/plain": [
       "1660"
      ]
     },
     "execution_count": 10,
     "metadata": {},
     "output_type": "execute_result"
    }
   ],
   "source": [
    "start = 172851\n",
    "finish = 675869\n",
    "\n",
    "main(start, finish)"
   ]
  },
  {
   "cell_type": "code",
   "execution_count": null,
   "id": "780cd72f",
   "metadata": {},
   "outputs": [],
   "source": []
  }
 ],
 "metadata": {
  "kernelspec": {
   "display_name": "Python 3 (ipykernel)",
   "language": "python",
   "name": "python3"
  },
  "language_info": {
   "codemirror_mode": {
    "name": "ipython",
    "version": 3
   },
   "file_extension": ".py",
   "mimetype": "text/x-python",
   "name": "python",
   "nbconvert_exporter": "python",
   "pygments_lexer": "ipython3",
   "version": "3.9.12"
  }
 },
 "nbformat": 4,
 "nbformat_minor": 5
}
