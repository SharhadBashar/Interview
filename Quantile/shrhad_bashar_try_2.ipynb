{
 "cells": [
  {
   "cell_type": "markdown",
   "id": "b337e38b",
   "metadata": {},
   "source": [
    "### Original"
   ]
  },
  {
   "cell_type": "code",
   "execution_count": 27,
   "id": "c02887b7",
   "metadata": {},
   "outputs": [],
   "source": [
    "import time"
   ]
  },
  {
   "cell_type": "code",
   "execution_count": 28,
   "id": "d9f444d1",
   "metadata": {},
   "outputs": [],
   "source": [
    "start = 172851\n",
    "finish = 675869"
   ]
  },
  {
   "cell_type": "code",
   "execution_count": 29,
   "id": "7e18288f",
   "metadata": {},
   "outputs": [],
   "source": [
    "def adjacent_num(num):\n",
    "    str_nums = str(num)\n",
    "    for i in range(1, len(str_nums)):\n",
    "        if (str_nums[i - 1] == str_nums[i]):\n",
    "            return True\n",
    "    return False\n",
    "\n",
    "def digit_increasing(num):\n",
    "    str_nums = str(num)\n",
    "    for i in range(1, len(str_nums)):\n",
    "        if (not int(str_nums[i]) >= int(str_nums[i - 1])):\n",
    "            return False\n",
    "    return True\n",
    "\n",
    "def main(start, finish):\n",
    "    count = 0\n",
    "    for i in range (start, finish + 1):\n",
    "        if (adjacent_num(i) and digit_increasing(i)):\n",
    "            count += 1\n",
    "    return count"
   ]
  },
  {
   "cell_type": "code",
   "execution_count": 32,
   "id": "338c02df",
   "metadata": {},
   "outputs": [
    {
     "name": "stdout",
     "output_type": "stream",
     "text": [
      "Number of passwords: 1660\n",
      "Original took 0.53 s to complete\n"
     ]
    }
   ],
   "source": [
    "start_time = time.time()\n",
    "print('Number of passwords:', main(start, finish))\n",
    "print('Original took {} s to complete'.format(round(time.time() - start_time, 2)))"
   ]
  },
  {
   "cell_type": "markdown",
   "id": "b784b14c",
   "metadata": {},
   "source": [
    "### Combining the 2 helper functions\n",
    "\n",
    "This only works if we know that the length of the password is a constant.\n",
    "\n",
    "We only check for if all digits are increasing or the same if there are atleast 2 adjacent numbers that are the same\n",
    "\n",
    "This gives a very small improvement in time required, as shown below"
   ]
  },
  {
   "cell_type": "code",
   "execution_count": 3,
   "id": "be308c6c",
   "metadata": {},
   "outputs": [],
   "source": [
    "def check_num(num):\n",
    "    str_nums = str(num)\n",
    "    if (str_nums[0] == str_nums[1] or\n",
    "        str_nums[1] == str_nums[2] or\n",
    "        str_nums[2] == str_nums[3] or\n",
    "        str_nums[3] == str_nums[4] or\n",
    "        str_nums[4] == str_nums[5]):\n",
    "        for i in range(1, len(str_nums)):\n",
    "            if (not int(str_nums[i]) >= int(str_nums[i - 1])):\n",
    "                return False\n",
    "        return True\n",
    "    return False\n",
    "\n",
    "def main(start, finish):\n",
    "    count = 0\n",
    "    for i in range (start, finish + 1):\n",
    "        if (adjacent_num(i) and digit_increasing(i)):\n",
    "            count += 1\n",
    "    return count"
   ]
  },
  {
   "cell_type": "code",
   "execution_count": 31,
   "id": "eb21acc2",
   "metadata": {},
   "outputs": [
    {
     "name": "stdout",
     "output_type": "stream",
     "text": [
      "Number of passwords: 1660\n",
      "Combining 2 helpers took 0.52 s to complete\n"
     ]
    }
   ],
   "source": [
    "start_time = time.time()\n",
    "print('Number of passwords:', main(start, finish))\n",
    "print('Combining 2 helpers took {} s to complete'.format(round(time.time() - start_time, 2)))"
   ]
  },
  {
   "cell_type": "markdown",
   "id": "736385b9",
   "metadata": {},
   "source": [
    "### Go to next number with atleast 2 adjacent numbers\n",
    "\n",
    "If we see that there are no adjacent numbers that are the same, we go to the next number with 2 adjacent numbers. \n",
    "\n",
    "To do so, simply make the last two numbers the same. But we also need to make sure that the digist are in an increasing order, and we are not going backwards.\n",
    "\n",
    "So, we pick the largest of the two from the last two numbers, and change the last two numbers to that number\n",
    "\n",
    "For example `123456`, which is not valid will simply become `123466`.\n",
    "\n",
    "Note `123455` is a valid transformation of `123456`, but that would mean we are going back, so thats counter productive\n",
    "\n",
    "This gives a faster time to compute, as shown below"
   ]
  },
  {
   "cell_type": "code",
   "execution_count": 16,
   "id": "4dc1a9d7",
   "metadata": {},
   "outputs": [],
   "source": [
    "def adjacent_num(num):\n",
    "    str_nums = str(num)\n",
    "    for i in range(1, len(str_nums)):\n",
    "        if (str_nums[i - 1] == str_nums[i]):\n",
    "            return True\n",
    "    return False\n",
    "\n",
    "def next_adjacent_num(num):\n",
    "    str_nums = str(num)\n",
    "    larger_num = max(int(str_nums[-1]), int(str_nums[-2]))\n",
    "    new_num = str_nums[:4] + str(larger_num) + str(larger_num)\n",
    "    return int(new_num)\n",
    "    \n",
    "def digit_increasing(num):\n",
    "    str_nums = str(num)\n",
    "    for i in range(1, len(str_nums)):\n",
    "        if (not int(str_nums[i]) >= int(str_nums[i - 1])):\n",
    "            return False\n",
    "    return True\n",
    "\n",
    "def main(start, finish):\n",
    "    count = 0\n",
    "    i = start\n",
    "    while (i <= finish):\n",
    "        if (digit_increasing(i)):\n",
    "            if (adjacent_num(i)):\n",
    "                count += 1\n",
    "                i += 1\n",
    "            else:\n",
    "                i = next_adjacent_num(i)\n",
    "        else:\n",
    "            i += 1    \n",
    "    return count"
   ]
  },
  {
   "cell_type": "code",
   "execution_count": 36,
   "id": "98dad353",
   "metadata": {},
   "outputs": [
    {
     "name": "stdout",
     "output_type": "stream",
     "text": [
      "Number of passwords: 1660\n",
      "Skipping to next num with same adjacent digists took 0.45 s to complete\n"
     ]
    }
   ],
   "source": [
    "start_time = time.time()\n",
    "print('Number of passwords:', main(start, finish))\n",
    "print('Skipping to next num with same adjacent digists took {} s to complete'\n",
    "      .format(round(time.time() - start_time, 2)))"
   ]
  }
 ],
 "metadata": {
  "kernelspec": {
   "display_name": "Python 3 (ipykernel)",
   "language": "python",
   "name": "python3"
  },
  "language_info": {
   "codemirror_mode": {
    "name": "ipython",
    "version": 3
   },
   "file_extension": ".py",
   "mimetype": "text/x-python",
   "name": "python",
   "nbconvert_exporter": "python",
   "pygments_lexer": "ipython3",
   "version": "3.9.12"
  }
 },
 "nbformat": 4,
 "nbformat_minor": 5
}
