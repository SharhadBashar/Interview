{
 "cells": [
  {
   "cell_type": "code",
   "execution_count": 4,
   "metadata": {},
   "outputs": [],
   "source": [
    "import os\n",
    "import pickle\n",
    "import pandas as pd\n",
    "\n",
    "from sklearn.preprocessing import LabelEncoder\n",
    "from sklearn.model_selection import train_test_split\n",
    "from sklearn.metrics import accuracy_score, f1_score, precision_score, recall_score\n",
    "\n",
    "from sklearn.linear_model import LogisticRegression, SGDClassifier\n",
    "from sklearn.svm import LinearSVC\n",
    "from sklearn.neighbors import KNeighborsClassifier\n",
    "from sklearn.tree import DecisionTreeClassifier\n",
    "from sklearn.neural_network import MLPClassifier\n",
    "from sklearn.naive_bayes import MultinomialNB\n",
    "from sklearn.ensemble import RandomForestClassifier"
   ]
  },
  {
   "cell_type": "code",
   "execution_count": 2,
   "metadata": {},
   "outputs": [],
   "source": [
    "PATH_DATA = '../data/'\n",
    "PATH_MODEL = '../model/'\n",
    "\n",
    "MODEL = 'model.pkl'\n",
    "DETAILED_CLAIM = 'claim_detail.csv'\n",
    "PRESCRIPTION = 'prescription_drugs.csv'\n",
    "DETAILED_PRESCRIPTION = 'prescription_detail.csv'\n",
    "DETAILED_PRESCRIPTION_LE = 'prescription_detail_le.csv'\n",
    "DETAILED_PRESCRIPTION_LE_MAPPING = 'prescription_detail_le_mapping.pkl'"
   ]
  },
  {
   "cell_type": "code",
   "execution_count": 5,
   "metadata": {},
   "outputs": [],
   "source": [
    "def prep_data():\n",
    "    df_claim = pd.read_csv(os.path.join(PATH_DATA, DETAILED_CLAIM))\n",
    "    df_prescription = pd.read_csv(os.path.join(PATH_DATA, PRESCRIPTION))\n",
    "    df_claim = df_claim.dropna()\n",
    "    df_prescription = df_prescription.dropna()\n",
    "\n",
    "    df_prescription['date_svc'] = pd.to_datetime(df_prescription['date_svc'])\n",
    "    df_claim['date_svc'] = pd.to_datetime(df_claim['date_svc'])\n",
    "    df_prescription = df_prescription.sort_values(by = ['date_svc'])\n",
    "    df_claim = df_claim.sort_values(by = ['date_svc'])\n",
    "\n",
    "    merged_df = pd.merge_asof(df_prescription, df_claim, on = 'date_svc', by = 'member_id', direction = 'backward')\n",
    "\n",
    "    merged_df = merged_df.drop(['record_id', 'member_id', 'date_svc', 'ndc', 'Unnamed: 0', 'diag', 'diag_desc', 'ccs_1_desc', 'ccs_2_desc'], axis = 1)\n",
    "    merged_df = merged_df.dropna()\n",
    "\n",
    "    merged_df.to_csv(os.path.join(PATH_DATA, DETAILED_PRESCRIPTION))"
   ]
  },
  {
   "cell_type": "code",
   "execution_count": 6,
   "metadata": {},
   "outputs": [],
   "source": [
    "prep_data()"
   ]
  },
  {
   "cell_type": "code",
   "execution_count": 6,
   "metadata": {},
   "outputs": [],
   "source": [
    "df = pd.read_csv(os.path.join(PATH_DATA, DETAILED_PRESCRIPTION))"
   ]
  },
  {
   "cell_type": "code",
   "execution_count": 8,
   "metadata": {},
   "outputs": [
    {
     "data": {
      "text/html": [
       "<div>\n",
       "<style scoped>\n",
       "    .dataframe tbody tr th:only-of-type {\n",
       "        vertical-align: middle;\n",
       "    }\n",
       "\n",
       "    .dataframe tbody tr th {\n",
       "        vertical-align: top;\n",
       "    }\n",
       "\n",
       "    .dataframe thead th {\n",
       "        text-align: right;\n",
       "    }\n",
       "</style>\n",
       "<table border=\"1\" class=\"dataframe\">\n",
       "  <thead>\n",
       "    <tr style=\"text-align: right;\">\n",
       "      <th></th>\n",
       "      <th>Unnamed: 0</th>\n",
       "      <th>drug_category</th>\n",
       "      <th>drug_group</th>\n",
       "      <th>drug_class</th>\n",
       "      <th>ccs_3_desc</th>\n",
       "    </tr>\n",
       "  </thead>\n",
       "  <tbody>\n",
       "    <tr>\n",
       "      <th>0</th>\n",
       "      <td>29084</td>\n",
       "      <td>Diuretics</td>\n",
       "      <td>Thiazides and Thiazide-Like Diuretics</td>\n",
       "      <td>Thiazides and Thiazide-Like Diuretics</td>\n",
       "      <td>Joint disorders and dislocations; trauma-related</td>\n",
       "    </tr>\n",
       "    <tr>\n",
       "      <th>1</th>\n",
       "      <td>40043</td>\n",
       "      <td>Diuretics</td>\n",
       "      <td>Thiazides and Thiazide-Like Diuretics</td>\n",
       "      <td>Thiazides and Thiazide-Like Diuretics</td>\n",
       "      <td>Joint disorders and dislocations; trauma-related</td>\n",
       "    </tr>\n",
       "    <tr>\n",
       "      <th>2</th>\n",
       "      <td>47169</td>\n",
       "      <td>Thyroid Agents</td>\n",
       "      <td>Thyroid Hormones</td>\n",
       "      <td>Thyroid Hormones</td>\n",
       "      <td>Joint disorders and dislocations; trauma-related</td>\n",
       "    </tr>\n",
       "    <tr>\n",
       "      <th>3</th>\n",
       "      <td>53039</td>\n",
       "      <td>Corticosteroids</td>\n",
       "      <td>Glucocorticosteroids</td>\n",
       "      <td>Glucocorticosteroids</td>\n",
       "      <td>Other non-traumatic joint disorders</td>\n",
       "    </tr>\n",
       "    <tr>\n",
       "      <th>4</th>\n",
       "      <td>53055</td>\n",
       "      <td>Musculoskeletal Therapy Agents</td>\n",
       "      <td>Central Muscle Relaxants</td>\n",
       "      <td>Central Muscle Relaxants</td>\n",
       "      <td>Other non-traumatic joint disorders</td>\n",
       "    </tr>\n",
       "  </tbody>\n",
       "</table>\n",
       "</div>"
      ],
      "text/plain": [
       "   Unnamed: 0                   drug_category  \\\n",
       "0       29084                       Diuretics   \n",
       "1       40043                       Diuretics   \n",
       "2       47169                  Thyroid Agents   \n",
       "3       53039                 Corticosteroids   \n",
       "4       53055  Musculoskeletal Therapy Agents   \n",
       "\n",
       "                              drug_group  \\\n",
       "0  Thiazides and Thiazide-Like Diuretics   \n",
       "1  Thiazides and Thiazide-Like Diuretics   \n",
       "2                       Thyroid Hormones   \n",
       "3                   Glucocorticosteroids   \n",
       "4               Central Muscle Relaxants   \n",
       "\n",
       "                              drug_class  \\\n",
       "0  Thiazides and Thiazide-Like Diuretics   \n",
       "1  Thiazides and Thiazide-Like Diuretics   \n",
       "2                       Thyroid Hormones   \n",
       "3                   Glucocorticosteroids   \n",
       "4               Central Muscle Relaxants   \n",
       "\n",
       "                                         ccs_3_desc  \n",
       "0  Joint disorders and dislocations; trauma-related  \n",
       "1  Joint disorders and dislocations; trauma-related  \n",
       "2  Joint disorders and dislocations; trauma-related  \n",
       "3               Other non-traumatic joint disorders  \n",
       "4               Other non-traumatic joint disorders  "
      ]
     },
     "execution_count": 8,
     "metadata": {},
     "output_type": "execute_result"
    }
   ],
   "source": [
    "df.head()"
   ]
  },
  {
   "cell_type": "code",
   "execution_count": 9,
   "metadata": {},
   "outputs": [
    {
     "name": "stdout",
     "output_type": "stream",
     "text": [
      "(2258942, 5)\n",
      "Unique values in each columns:\n",
      "drug_category 92\n",
      "drug_group 445\n",
      "drug_class 653\n",
      "ccs_3_desc 274\n"
     ]
    }
   ],
   "source": [
    "print(df.shape)\n",
    "print('Unique values in each columns:')\n",
    "print('drug_category', df['drug_category'].nunique())\n",
    "print('drug_group', df['drug_group'].nunique())\n",
    "print('drug_class', df['drug_class'].nunique())\n",
    "print('ccs_3_desc', df['ccs_3_desc'].nunique())"
   ]
  },
  {
   "cell_type": "code",
   "execution_count": 16,
   "metadata": {},
   "outputs": [],
   "source": [
    "df = pd.get_dummies(df, columns=['drug_category', 'drug_group', 'drug_class'])"
   ]
  },
  {
   "cell_type": "code",
   "execution_count": 17,
   "metadata": {},
   "outputs": [
    {
     "data": {
      "text/html": [
       "<div>\n",
       "<style scoped>\n",
       "    .dataframe tbody tr th:only-of-type {\n",
       "        vertical-align: middle;\n",
       "    }\n",
       "\n",
       "    .dataframe tbody tr th {\n",
       "        vertical-align: top;\n",
       "    }\n",
       "\n",
       "    .dataframe thead th {\n",
       "        text-align: right;\n",
       "    }\n",
       "</style>\n",
       "<table border=\"1\" class=\"dataframe\">\n",
       "  <thead>\n",
       "    <tr style=\"text-align: right;\">\n",
       "      <th></th>\n",
       "      <th>Unnamed: 0</th>\n",
       "      <th>ccs_3_desc</th>\n",
       "      <th>drug_category_Adhd/Anti-narcolepsy/Anti-obesity/Anorexiants</th>\n",
       "      <th>drug_category_Allergenic Extracts/Biologicals Misc</th>\n",
       "      <th>drug_category_Alternative Medicines</th>\n",
       "      <th>drug_category_Aminoglycosides</th>\n",
       "      <th>drug_category_Analgesics - Anti-Inflammatory</th>\n",
       "      <th>drug_category_Analgesics - NonNarcotic</th>\n",
       "      <th>drug_category_Analgesics - Opioid</th>\n",
       "      <th>drug_category_Androgens-Anabolic</th>\n",
       "      <th>...</th>\n",
       "      <th>drug_class_Vitamin B-3</th>\n",
       "      <th>drug_class_Vitamin B-6</th>\n",
       "      <th>drug_class_Vitamin C</th>\n",
       "      <th>drug_class_Vitamin D</th>\n",
       "      <th>drug_class_Vitamin K</th>\n",
       "      <th>drug_class_Wound Care - Growth Factor Agents</th>\n",
       "      <th>drug_class_Wound Care Combinations</th>\n",
       "      <th>drug_class_Wound Dressings</th>\n",
       "      <th>drug_class_Xanthines</th>\n",
       "      <th>drug_class_Zinc</th>\n",
       "    </tr>\n",
       "  </thead>\n",
       "  <tbody>\n",
       "    <tr>\n",
       "      <th>0</th>\n",
       "      <td>1</td>\n",
       "      <td>Essential hypertension</td>\n",
       "      <td>False</td>\n",
       "      <td>False</td>\n",
       "      <td>False</td>\n",
       "      <td>False</td>\n",
       "      <td>False</td>\n",
       "      <td>False</td>\n",
       "      <td>False</td>\n",
       "      <td>False</td>\n",
       "      <td>...</td>\n",
       "      <td>False</td>\n",
       "      <td>False</td>\n",
       "      <td>False</td>\n",
       "      <td>False</td>\n",
       "      <td>False</td>\n",
       "      <td>False</td>\n",
       "      <td>False</td>\n",
       "      <td>False</td>\n",
       "      <td>False</td>\n",
       "      <td>False</td>\n",
       "    </tr>\n",
       "    <tr>\n",
       "      <th>1</th>\n",
       "      <td>2</td>\n",
       "      <td>Asthma</td>\n",
       "      <td>False</td>\n",
       "      <td>False</td>\n",
       "      <td>False</td>\n",
       "      <td>False</td>\n",
       "      <td>False</td>\n",
       "      <td>False</td>\n",
       "      <td>False</td>\n",
       "      <td>False</td>\n",
       "      <td>...</td>\n",
       "      <td>False</td>\n",
       "      <td>False</td>\n",
       "      <td>False</td>\n",
       "      <td>False</td>\n",
       "      <td>False</td>\n",
       "      <td>False</td>\n",
       "      <td>False</td>\n",
       "      <td>False</td>\n",
       "      <td>False</td>\n",
       "      <td>False</td>\n",
       "    </tr>\n",
       "    <tr>\n",
       "      <th>2</th>\n",
       "      <td>3</td>\n",
       "      <td>Essential hypertension</td>\n",
       "      <td>False</td>\n",
       "      <td>False</td>\n",
       "      <td>False</td>\n",
       "      <td>False</td>\n",
       "      <td>False</td>\n",
       "      <td>False</td>\n",
       "      <td>False</td>\n",
       "      <td>False</td>\n",
       "      <td>...</td>\n",
       "      <td>False</td>\n",
       "      <td>False</td>\n",
       "      <td>False</td>\n",
       "      <td>False</td>\n",
       "      <td>False</td>\n",
       "      <td>False</td>\n",
       "      <td>False</td>\n",
       "      <td>False</td>\n",
       "      <td>False</td>\n",
       "      <td>False</td>\n",
       "    </tr>\n",
       "    <tr>\n",
       "      <th>3</th>\n",
       "      <td>4</td>\n",
       "      <td>Contraceptive and procreative management</td>\n",
       "      <td>False</td>\n",
       "      <td>False</td>\n",
       "      <td>False</td>\n",
       "      <td>False</td>\n",
       "      <td>False</td>\n",
       "      <td>False</td>\n",
       "      <td>False</td>\n",
       "      <td>False</td>\n",
       "      <td>...</td>\n",
       "      <td>False</td>\n",
       "      <td>False</td>\n",
       "      <td>False</td>\n",
       "      <td>False</td>\n",
       "      <td>False</td>\n",
       "      <td>False</td>\n",
       "      <td>False</td>\n",
       "      <td>False</td>\n",
       "      <td>False</td>\n",
       "      <td>False</td>\n",
       "    </tr>\n",
       "    <tr>\n",
       "      <th>4</th>\n",
       "      <td>7</td>\n",
       "      <td>Essential hypertension</td>\n",
       "      <td>False</td>\n",
       "      <td>False</td>\n",
       "      <td>False</td>\n",
       "      <td>False</td>\n",
       "      <td>False</td>\n",
       "      <td>False</td>\n",
       "      <td>False</td>\n",
       "      <td>False</td>\n",
       "      <td>...</td>\n",
       "      <td>False</td>\n",
       "      <td>False</td>\n",
       "      <td>False</td>\n",
       "      <td>False</td>\n",
       "      <td>False</td>\n",
       "      <td>False</td>\n",
       "      <td>False</td>\n",
       "      <td>False</td>\n",
       "      <td>False</td>\n",
       "      <td>False</td>\n",
       "    </tr>\n",
       "  </tbody>\n",
       "</table>\n",
       "<p>5 rows × 1229 columns</p>\n",
       "</div>"
      ],
      "text/plain": [
       "   Unnamed: 0                                ccs_3_desc  \\\n",
       "0           1                    Essential hypertension   \n",
       "1           2                                    Asthma   \n",
       "2           3                    Essential hypertension   \n",
       "3           4  Contraceptive and procreative management   \n",
       "4           7                    Essential hypertension   \n",
       "\n",
       "   drug_category_Adhd/Anti-narcolepsy/Anti-obesity/Anorexiants  \\\n",
       "0                                              False             \n",
       "1                                              False             \n",
       "2                                              False             \n",
       "3                                              False             \n",
       "4                                              False             \n",
       "\n",
       "   drug_category_Allergenic Extracts/Biologicals Misc  \\\n",
       "0                                              False    \n",
       "1                                              False    \n",
       "2                                              False    \n",
       "3                                              False    \n",
       "4                                              False    \n",
       "\n",
       "   drug_category_Alternative Medicines  drug_category_Aminoglycosides  \\\n",
       "0                                False                          False   \n",
       "1                                False                          False   \n",
       "2                                False                          False   \n",
       "3                                False                          False   \n",
       "4                                False                          False   \n",
       "\n",
       "   drug_category_Analgesics - Anti-Inflammatory  \\\n",
       "0                                         False   \n",
       "1                                         False   \n",
       "2                                         False   \n",
       "3                                         False   \n",
       "4                                         False   \n",
       "\n",
       "   drug_category_Analgesics - NonNarcotic  drug_category_Analgesics - Opioid  \\\n",
       "0                                   False                              False   \n",
       "1                                   False                              False   \n",
       "2                                   False                              False   \n",
       "3                                   False                              False   \n",
       "4                                   False                              False   \n",
       "\n",
       "   drug_category_Androgens-Anabolic  ...  drug_class_Vitamin B-3  \\\n",
       "0                             False  ...                   False   \n",
       "1                             False  ...                   False   \n",
       "2                             False  ...                   False   \n",
       "3                             False  ...                   False   \n",
       "4                             False  ...                   False   \n",
       "\n",
       "   drug_class_Vitamin B-6  drug_class_Vitamin C  drug_class_Vitamin D  \\\n",
       "0                   False                 False                 False   \n",
       "1                   False                 False                 False   \n",
       "2                   False                 False                 False   \n",
       "3                   False                 False                 False   \n",
       "4                   False                 False                 False   \n",
       "\n",
       "   drug_class_Vitamin K  drug_class_Wound Care - Growth Factor Agents  \\\n",
       "0                 False                                         False   \n",
       "1                 False                                         False   \n",
       "2                 False                                         False   \n",
       "3                 False                                         False   \n",
       "4                 False                                         False   \n",
       "\n",
       "   drug_class_Wound Care Combinations  drug_class_Wound Dressings  \\\n",
       "0                               False                       False   \n",
       "1                               False                       False   \n",
       "2                               False                       False   \n",
       "3                               False                       False   \n",
       "4                               False                       False   \n",
       "\n",
       "   drug_class_Xanthines  drug_class_Zinc  \n",
       "0                 False            False  \n",
       "1                 False            False  \n",
       "2                 False            False  \n",
       "3                 False            False  \n",
       "4                 False            False  \n",
       "\n",
       "[5 rows x 1229 columns]"
      ]
     },
     "execution_count": 17,
     "metadata": {},
     "output_type": "execute_result"
    }
   ],
   "source": [
    "df.head()"
   ]
  },
  {
   "cell_type": "code",
   "execution_count": 7,
   "metadata": {},
   "outputs": [],
   "source": [
    "label_encoder = LabelEncoder()\n",
    "label_mapping = {}\n",
    "\n",
    "for col in ['drug_category', 'drug_group', 'drug_class', 'ccs_3_desc']:\n",
    "    df[col] = label_encoder.fit_transform(df[col])\n",
    "    label_mapping[col] = dict(zip(label_encoder.classes_, label_encoder.transform(label_encoder.classes_)))\n"
   ]
  },
  {
   "cell_type": "code",
   "execution_count": 8,
   "metadata": {},
   "outputs": [
    {
     "data": {
      "text/html": [
       "<div>\n",
       "<style scoped>\n",
       "    .dataframe tbody tr th:only-of-type {\n",
       "        vertical-align: middle;\n",
       "    }\n",
       "\n",
       "    .dataframe tbody tr th {\n",
       "        vertical-align: top;\n",
       "    }\n",
       "\n",
       "    .dataframe thead th {\n",
       "        text-align: right;\n",
       "    }\n",
       "</style>\n",
       "<table border=\"1\" class=\"dataframe\">\n",
       "  <thead>\n",
       "    <tr style=\"text-align: right;\">\n",
       "      <th></th>\n",
       "      <th>Unnamed: 0</th>\n",
       "      <th>drug_category</th>\n",
       "      <th>drug_group</th>\n",
       "      <th>drug_class</th>\n",
       "      <th>ccs_3_desc</th>\n",
       "    </tr>\n",
       "  </thead>\n",
       "  <tbody>\n",
       "    <tr>\n",
       "      <th>0</th>\n",
       "      <td>29084</td>\n",
       "      <td>48</td>\n",
       "      <td>412</td>\n",
       "      <td>596</td>\n",
       "      <td>144</td>\n",
       "    </tr>\n",
       "    <tr>\n",
       "      <th>1</th>\n",
       "      <td>40043</td>\n",
       "      <td>48</td>\n",
       "      <td>412</td>\n",
       "      <td>596</td>\n",
       "      <td>144</td>\n",
       "    </tr>\n",
       "    <tr>\n",
       "      <th>2</th>\n",
       "      <td>47169</td>\n",
       "      <td>83</td>\n",
       "      <td>416</td>\n",
       "      <td>606</td>\n",
       "      <td>144</td>\n",
       "    </tr>\n",
       "    <tr>\n",
       "      <th>3</th>\n",
       "      <td>53039</td>\n",
       "      <td>42</td>\n",
       "      <td>210</td>\n",
       "      <td>310</td>\n",
       "      <td>211</td>\n",
       "    </tr>\n",
       "    <tr>\n",
       "      <th>4</th>\n",
       "      <td>53055</td>\n",
       "      <td>69</td>\n",
       "      <td>147</td>\n",
       "      <td>211</td>\n",
       "      <td>211</td>\n",
       "    </tr>\n",
       "  </tbody>\n",
       "</table>\n",
       "</div>"
      ],
      "text/plain": [
       "   Unnamed: 0  drug_category  drug_group  drug_class  ccs_3_desc\n",
       "0       29084             48         412         596         144\n",
       "1       40043             48         412         596         144\n",
       "2       47169             83         416         606         144\n",
       "3       53039             42         210         310         211\n",
       "4       53055             69         147         211         211"
      ]
     },
     "execution_count": 8,
     "metadata": {},
     "output_type": "execute_result"
    }
   ],
   "source": [
    "df.head()"
   ]
  },
  {
   "cell_type": "code",
   "execution_count": 9,
   "metadata": {},
   "outputs": [],
   "source": [
    "with open(os.path.join(PATH_DATA, DETAILED_PRESCRIPTION_LE_MAPPING), 'wb') as f:\n",
    "    pickle.dump(label_mapping, f)\n",
    "\n",
    "df.to_csv(os.path.join(PATH_DATA, DETAILED_PRESCRIPTION_LE))"
   ]
  },
  {
   "cell_type": "code",
   "execution_count": 10,
   "metadata": {},
   "outputs": [
    {
     "name": "stdout",
     "output_type": "stream",
     "text": [
      "(2258942, 3) (2258942,)\n"
     ]
    }
   ],
   "source": [
    "X = df[['drug_category', 'drug_group', 'drug_class']]\n",
    "y = df['ccs_3_desc']\n",
    "print(X.shape, y.shape)"
   ]
  },
  {
   "cell_type": "code",
   "execution_count": 11,
   "metadata": {},
   "outputs": [],
   "source": [
    "X_train, X_test, y_train, y_test = train_test_split(X, y, test_size = 0.2, random_state = 42)"
   ]
  },
  {
   "cell_type": "code",
   "execution_count": 12,
   "metadata": {},
   "outputs": [],
   "source": [
    "clf = RandomForestClassifier()"
   ]
  },
  {
   "cell_type": "code",
   "execution_count": 13,
   "metadata": {},
   "outputs": [
    {
     "data": {
      "text/html": [
       "<style>#sk-container-id-1 {color: black;}#sk-container-id-1 pre{padding: 0;}#sk-container-id-1 div.sk-toggleable {background-color: white;}#sk-container-id-1 label.sk-toggleable__label {cursor: pointer;display: block;width: 100%;margin-bottom: 0;padding: 0.3em;box-sizing: border-box;text-align: center;}#sk-container-id-1 label.sk-toggleable__label-arrow:before {content: \"▸\";float: left;margin-right: 0.25em;color: #696969;}#sk-container-id-1 label.sk-toggleable__label-arrow:hover:before {color: black;}#sk-container-id-1 div.sk-estimator:hover label.sk-toggleable__label-arrow:before {color: black;}#sk-container-id-1 div.sk-toggleable__content {max-height: 0;max-width: 0;overflow: hidden;text-align: left;background-color: #f0f8ff;}#sk-container-id-1 div.sk-toggleable__content pre {margin: 0.2em;color: black;border-radius: 0.25em;background-color: #f0f8ff;}#sk-container-id-1 input.sk-toggleable__control:checked~div.sk-toggleable__content {max-height: 200px;max-width: 100%;overflow: auto;}#sk-container-id-1 input.sk-toggleable__control:checked~label.sk-toggleable__label-arrow:before {content: \"▾\";}#sk-container-id-1 div.sk-estimator input.sk-toggleable__control:checked~label.sk-toggleable__label {background-color: #d4ebff;}#sk-container-id-1 div.sk-label input.sk-toggleable__control:checked~label.sk-toggleable__label {background-color: #d4ebff;}#sk-container-id-1 input.sk-hidden--visually {border: 0;clip: rect(1px 1px 1px 1px);clip: rect(1px, 1px, 1px, 1px);height: 1px;margin: -1px;overflow: hidden;padding: 0;position: absolute;width: 1px;}#sk-container-id-1 div.sk-estimator {font-family: monospace;background-color: #f0f8ff;border: 1px dotted black;border-radius: 0.25em;box-sizing: border-box;margin-bottom: 0.5em;}#sk-container-id-1 div.sk-estimator:hover {background-color: #d4ebff;}#sk-container-id-1 div.sk-parallel-item::after {content: \"\";width: 100%;border-bottom: 1px solid gray;flex-grow: 1;}#sk-container-id-1 div.sk-label:hover label.sk-toggleable__label {background-color: #d4ebff;}#sk-container-id-1 div.sk-serial::before {content: \"\";position: absolute;border-left: 1px solid gray;box-sizing: border-box;top: 0;bottom: 0;left: 50%;z-index: 0;}#sk-container-id-1 div.sk-serial {display: flex;flex-direction: column;align-items: center;background-color: white;padding-right: 0.2em;padding-left: 0.2em;position: relative;}#sk-container-id-1 div.sk-item {position: relative;z-index: 1;}#sk-container-id-1 div.sk-parallel {display: flex;align-items: stretch;justify-content: center;background-color: white;position: relative;}#sk-container-id-1 div.sk-item::before, #sk-container-id-1 div.sk-parallel-item::before {content: \"\";position: absolute;border-left: 1px solid gray;box-sizing: border-box;top: 0;bottom: 0;left: 50%;z-index: -1;}#sk-container-id-1 div.sk-parallel-item {display: flex;flex-direction: column;z-index: 1;position: relative;background-color: white;}#sk-container-id-1 div.sk-parallel-item:first-child::after {align-self: flex-end;width: 50%;}#sk-container-id-1 div.sk-parallel-item:last-child::after {align-self: flex-start;width: 50%;}#sk-container-id-1 div.sk-parallel-item:only-child::after {width: 0;}#sk-container-id-1 div.sk-dashed-wrapped {border: 1px dashed gray;margin: 0 0.4em 0.5em 0.4em;box-sizing: border-box;padding-bottom: 0.4em;background-color: white;}#sk-container-id-1 div.sk-label label {font-family: monospace;font-weight: bold;display: inline-block;line-height: 1.2em;}#sk-container-id-1 div.sk-label-container {text-align: center;}#sk-container-id-1 div.sk-container {/* jupyter's `normalize.less` sets `[hidden] { display: none; }` but bootstrap.min.css set `[hidden] { display: none !important; }` so we also need the `!important` here to be able to override the default hidden behavior on the sphinx rendered scikit-learn.org. See: https://github.com/scikit-learn/scikit-learn/issues/21755 */display: inline-block !important;position: relative;}#sk-container-id-1 div.sk-text-repr-fallback {display: none;}</style><div id=\"sk-container-id-1\" class=\"sk-top-container\"><div class=\"sk-text-repr-fallback\"><pre>RandomForestClassifier()</pre><b>In a Jupyter environment, please rerun this cell to show the HTML representation or trust the notebook. <br />On GitHub, the HTML representation is unable to render, please try loading this page with nbviewer.org.</b></div><div class=\"sk-container\" hidden><div class=\"sk-item\"><div class=\"sk-estimator sk-toggleable\"><input class=\"sk-toggleable__control sk-hidden--visually\" id=\"sk-estimator-id-1\" type=\"checkbox\" checked><label for=\"sk-estimator-id-1\" class=\"sk-toggleable__label sk-toggleable__label-arrow\">RandomForestClassifier</label><div class=\"sk-toggleable__content\"><pre>RandomForestClassifier()</pre></div></div></div></div></div>"
      ],
      "text/plain": [
       "RandomForestClassifier()"
      ]
     },
     "execution_count": 13,
     "metadata": {},
     "output_type": "execute_result"
    }
   ],
   "source": [
    "clf.fit(X_train, y_train)"
   ]
  },
  {
   "cell_type": "code",
   "execution_count": 16,
   "metadata": {},
   "outputs": [],
   "source": [
    "with open(os.path.join(PATH_MODEL, MODEL), 'wb') as f:\n",
    "    pickle.dump(clf, f)"
   ]
  },
  {
   "cell_type": "code",
   "execution_count": 14,
   "metadata": {},
   "outputs": [],
   "source": [
    "y_pred = clf.predict(X_test)"
   ]
  },
  {
   "cell_type": "code",
   "execution_count": 15,
   "metadata": {},
   "outputs": [
    {
     "name": "stdout",
     "output_type": "stream",
     "text": [
      "Accuracy: 0.1731936811210543\n"
     ]
    }
   ],
   "source": [
    "accuracy = accuracy_score(y_test, y_pred)\n",
    "# f1 = f1_score(y_test, y_pred)\n",
    "# precision = precision_score(y_test, y_pred)\n",
    "# recall = recall_score(y_test, y_pred)\n",
    "\n",
    "print('Accuracy:', accuracy)\n",
    "# print('F1:', f1)\n",
    "# print('Precision:', precision)\n",
    "# print('Recall:', recall)"
   ]
  },
  {
   "cell_type": "code",
   "execution_count": 64,
   "metadata": {},
   "outputs": [
    {
     "name": "stderr",
     "output_type": "stream",
     "text": [
      "C:\\Users\\sharh\\AppData\\Local\\Packages\\PythonSoftwareFoundation.Python.3.12_qbz5n2kfra8p0\\LocalCache\\local-packages\\Python312\\site-packages\\sklearn\\base.py:493: UserWarning: X does not have valid feature names, but LogisticRegression was fitted with feature names\n",
      "  warnings.warn(\n"
     ]
    },
    {
     "data": {
      "text/plain": [
       "array([218])"
      ]
     },
     "execution_count": 64,
     "metadata": {},
     "output_type": "execute_result"
    }
   ],
   "source": [
    "inp = pd.Series([12, 21, 43])\n",
    "inp = inp.values.reshape(1, -1)\n",
    "\n",
    "clf.predict(inp)\n",
    "# print(X_test['drug_category'])"
   ]
  },
  {
   "cell_type": "code",
   "execution_count": null,
   "metadata": {},
   "outputs": [],
   "source": []
  }
 ],
 "metadata": {
  "kernelspec": {
   "display_name": "Python 3",
   "language": "python",
   "name": "python3"
  },
  "language_info": {
   "codemirror_mode": {
    "name": "ipython",
    "version": 3
   },
   "file_extension": ".py",
   "mimetype": "text/x-python",
   "name": "python",
   "nbconvert_exporter": "python",
   "pygments_lexer": "ipython3",
   "version": "3.11.6"
  }
 },
 "nbformat": 4,
 "nbformat_minor": 2
}
