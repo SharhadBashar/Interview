{
 "cells": [
  {
   "cell_type": "code",
   "execution_count": 1,
   "metadata": {},
   "outputs": [
    {
     "name": "stderr",
     "output_type": "stream",
     "text": [
      "[nltk_data] Downloading package stopwords to\n",
      "[nltk_data]     /Users/sharhad/nltk_data...\n",
      "[nltk_data]   Package stopwords is already up-to-date!\n",
      "/Users/sharhad/python_versions/3.9/lib/python3.9/site-packages/tqdm/auto.py:21: TqdmWarning: IProgress not found. Please update jupyter and ipywidgets. See https://ipywidgets.readthedocs.io/en/stable/user_install.html\n",
      "  from .autonotebook import tqdm as notebook_tqdm\n"
     ]
    }
   ],
   "source": [
    "import os\n",
    "import pickle\n",
    "import numpy as np\n",
    "import pandas as pd\n",
    "\n",
    "import nltk\n",
    "from nltk.corpus import stopwords\n",
    "nltk.download('stopwords')\n",
    "from nltk.stem import WordNetLemmatizer\n",
    "from sentence_transformers import SentenceTransformer, util"
   ]
  },
  {
   "cell_type": "code",
   "execution_count": 3,
   "metadata": {},
   "outputs": [],
   "source": [
    "'''\n",
    "https://www.kaggle.com/datasets/anjaneyatripathi/emotion-classification-nlp\n",
    "https://www.kaggle.com/datasets/praveengovi/emotions-dataset-for-nlp\n",
    "'''\n",
    "data = '../data/'\n",
    "test_1 = 'emotion-labels-test.csv'\n",
    "test_2 = 'test.txt'\n",
    "train_1 = 'emotion-labels-train.csv'\n",
    "train_2 = 'train.txt' \n",
    "val_1 = 'emotion-labels-val.csv'\n",
    "val_2 = 'val.txt'"
   ]
  },
  {
   "cell_type": "code",
   "execution_count": 9,
   "metadata": {},
   "outputs": [
    {
     "data": {
      "text/plain": [
       "fear       1147\n",
       "anger       857\n",
       "joy         823\n",
       "sadness     786\n",
       "Name: label, dtype: int64"
      ]
     },
     "execution_count": 9,
     "metadata": {},
     "output_type": "execute_result"
    }
   ],
   "source": [
    "df = pd.read_csv(os.path.join(data, train_1))\n",
    "df['label'].value_counts()"
   ]
  },
  {
   "cell_type": "code",
   "execution_count": 14,
   "metadata": {},
   "outputs": [
    {
     "data": {
      "text/plain": [
       "joy         5362\n",
       "sadness     4666\n",
       "anger       2159\n",
       "fear        1937\n",
       "love        1304\n",
       "surprise     572\n",
       "Name: label, dtype: int64"
      ]
     },
     "execution_count": 14,
     "metadata": {},
     "output_type": "execute_result"
    }
   ],
   "source": [
    "df = pd.read_csv(os.path.join(data, train_2), sep = ';', header = None, names = ['text', 'label'])\n",
    "df['label'].value_counts()"
   ]
  },
  {
   "cell_type": "code",
   "execution_count": 17,
   "metadata": {},
   "outputs": [],
   "source": [
    "data = '../data/'\n",
    "def combine_df(file_csv, file_txt, file_type):\n",
    "    df_csv = pd.read_csv(os.path.join(data, file_csv))\n",
    "    df_txt = pd.read_csv(os.path.join(data, file_txt), sep = ';', header = None, names = ['text', 'label'])\n",
    "    df = pd.concat([df_csv, df_txt], ignore_index = True)\n",
    "    df.to_csv(os.path.join(data, file_type + '.csv'))\n",
    "combine_df(train_1, train_2, 'train')\n",
    "combine_df(test_1, test_2, 'test')\n",
    "combine_df(val_1, val_2, 'val')\n"
   ]
  },
  {
   "cell_type": "code",
   "execution_count": 21,
   "metadata": {},
   "outputs": [
    {
     "data": {
      "text/plain": [
       "joy         6185\n",
       "sadness     5452\n",
       "fear        3084\n",
       "anger       3016\n",
       "love        1304\n",
       "surprise     572\n",
       "Name: label, dtype: int64"
      ]
     },
     "execution_count": 21,
     "metadata": {},
     "output_type": "execute_result"
    }
   ],
   "source": [
    "df = pd.read_csv(os.path.join(data, 'train.csv'))\n",
    "df['label'].value_counts()"
   ]
  },
  {
   "cell_type": "code",
   "execution_count": 23,
   "metadata": {},
   "outputs": [
    {
     "data": {
      "text/plain": [
       "joy         1409\n",
       "sadness     1254\n",
       "fear        1219\n",
       "anger       1035\n",
       "love         159\n",
       "surprise      66\n",
       "Name: label, dtype: int64"
      ]
     },
     "execution_count": 23,
     "metadata": {},
     "output_type": "execute_result"
    }
   ],
   "source": [
    "df = pd.read_csv(os.path.join(data, 'test.csv'))\n",
    "df['label'].value_counts()"
   ]
  },
  {
   "cell_type": "code",
   "execution_count": 24,
   "metadata": {},
   "outputs": [
    {
     "data": {
      "text/plain": [
       "joy         783\n",
       "sadness     624\n",
       "anger       359\n",
       "fear        322\n",
       "love        178\n",
       "surprise     81\n",
       "Name: label, dtype: int64"
      ]
     },
     "execution_count": 24,
     "metadata": {},
     "output_type": "execute_result"
    }
   ],
   "source": [
    "df = pd.read_csv(os.path.join(data, 'val.csv'))\n",
    "df['label'].value_counts()"
   ]
  },
  {
   "cell_type": "code",
   "execution_count": null,
   "metadata": {},
   "outputs": [],
   "source": [
    "\n",
    "def prep_data():\n",
    "    with open('../data/stop_words.pkl', 'rb') as file:\n",
    "        custom_stopwords = pickle.load(file)\n",
    "    file.close()\n",
    "    stop = stopwords.words('english')\n",
    "    lemmatizer = WordNetLemmatizer()\n",
    "    text = text_dict['text'].replace('[^A-Za-z0-9 ]+', ' ')\n",
    "    text = clean(text, clean_all = False, \n",
    "                        extra_spaces = True, \n",
    "                        stemming = False,\n",
    "                        stopwords = True, \n",
    "                        lowercase = True, \n",
    "                        numbers = True, \n",
    "                        punct = True\n",
    "                )\n",
    "    text = ' '.join([word for word in text.split() if word not in (stop)])\n",
    "    text = ' '.join([word for word in text.split() if word not in (custom_stopwords)])\n",
    "    text = ' '.join([lemmatizer.lemmatize(word) for word in text.split()])"
   ]
  }
 ],
 "metadata": {
  "kernelspec": {
   "display_name": "Python 3",
   "language": "python",
   "name": "python3"
  },
  "language_info": {
   "codemirror_mode": {
    "name": "ipython",
    "version": 3
   },
   "file_extension": ".py",
   "mimetype": "text/x-python",
   "name": "python",
   "nbconvert_exporter": "python",
   "pygments_lexer": "ipython3",
   "version": "3.9.16"
  },
  "orig_nbformat": 4
 },
 "nbformat": 4,
 "nbformat_minor": 2
}
