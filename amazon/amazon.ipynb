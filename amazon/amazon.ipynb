{
 "cells": [
  {
   "cell_type": "code",
   "execution_count": 5,
   "id": "b80163f2",
   "metadata": {},
   "outputs": [
    {
     "data": {
      "text/plain": [
       "3"
      ]
     },
     "execution_count": 5,
     "metadata": {},
     "output_type": "execute_result"
    }
   ],
   "source": [
    "arr = [0, 0, 1, 0, 1, 0, 1, 1]\n",
    "\n",
    "def func(arr):\n",
    "    swaps_1 = 0\n",
    "    count = 0\n",
    "    for i in arr:\n",
    "        if i == 0:\n",
    "            count += 1\n",
    "        else:\n",
    "            swaps_1 += count\n",
    "            \n",
    "    swaps_2 = 0\n",
    "    count = 0\n",
    "    for i in arr[::-1]:\n",
    "        if i == 0:\n",
    "            count += 1\n",
    "        else:\n",
    "            swaps_2 += count\n",
    "    return min(swaps_1, swaps_2)\n",
    "func(arr)"
   ]
  },
  {
   "cell_type": "code",
   "execution_count": 16,
   "id": "4057f05d",
   "metadata": {},
   "outputs": [
    {
     "data": {
      "text/plain": [
       "7"
      ]
     },
     "execution_count": 16,
     "metadata": {},
     "output_type": "execute_result"
    }
   ],
   "source": [
    "import math\n",
    "\n",
    "packets = [2, 2, 1, 5, 3]\n",
    "channels = 2\n",
    "\n",
    "def median(arr):\n",
    "    n = len(arr)\n",
    "    if (n % 2 == 1):\n",
    "        return arr[n // 2]\n",
    "    else:\n",
    "        return math.ceil((arr[int(n / 2 - 1)] + arr[int(n / 2)]) / 2)\n",
    "    \n",
    "def func(packets, channels):\n",
    "    max_sum = 0\n",
    "    packets_reverse = sorted(packets, reverse = True)\n",
    "    for i in range(channels):\n",
    "        if (i == channels - 1):\n",
    "            max_sum += median(packets_reverse[i:]) \n",
    "        else:\n",
    "            max_sum += packets_reverse[i]\n",
    "    return max_sum\n",
    "func(packets, channels)"
   ]
  },
  {
   "cell_type": "code",
   "execution_count": null,
   "id": "e2db1c75",
   "metadata": {},
   "outputs": [],
   "source": []
  }
 ],
 "metadata": {
  "kernelspec": {
   "display_name": "Python 3 (ipykernel)",
   "language": "python",
   "name": "python3"
  },
  "language_info": {
   "codemirror_mode": {
    "name": "ipython",
    "version": 3
   },
   "file_extension": ".py",
   "mimetype": "text/x-python",
   "name": "python",
   "nbconvert_exporter": "python",
   "pygments_lexer": "ipython3",
   "version": "3.9.12"
  }
 },
 "nbformat": 4,
 "nbformat_minor": 5
}
