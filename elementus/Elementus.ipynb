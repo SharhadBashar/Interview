{
 "cells": [
  {
   "cell_type": "code",
   "execution_count": 1,
   "id": "4c669c37",
   "metadata": {},
   "outputs": [],
   "source": [
    "# matrix = [\n",
    "#     [0, 1, 0, 0],\n",
    "#     [1, 1, 0, 0],\n",
    "#     [0, 0, 1, 1],\n",
    "#     [1, 0, 0, 0],\n",
    "# ]\n",
    "# find_largest_island_size(matrix) -> 3\n",
    "# Variations: \n",
    "# 8 directions instead of 4 directions\n",
    "# if it was a 3D martix instea\n",
    "# check for errors\n",
    "# instead of largest island, how about largest height"
   ]
  },
  {
   "cell_type": "code",
   "execution_count": 36,
   "id": "14a1574f",
   "metadata": {},
   "outputs": [],
   "source": [
    "def find_largest_island_size(matrix: list[list[int]]) -> int:\n",
    "    try:\n",
    "        max_area = 0\n",
    "        m = len(matrix)\n",
    "        n = len(matrix[0])\n",
    "        def dfs(i, j):\n",
    "            if (i < 0 or i >= m or j < 0 or j >= n or matrix[i][j] == 0):\n",
    "                return 0\n",
    "            matrix[i][j] = 0\n",
    "            return 1 + \\\n",
    "                    dfs(i + 1, j) + \\\n",
    "                    dfs(i - 1, j) + \\\n",
    "                    dfs(i, j + 1) + \\\n",
    "                    dfs(i, j - 1)\n",
    "\n",
    "        for i in range(m):\n",
    "            for j in range(n):\n",
    "                if (matrix[i][j] != 0):\n",
    "                    max_area = max(max_area, dfs(i, j))\n",
    "        return max_area\n",
    "    \n",
    "    except Exception as e:\n",
    "        print(e)\n",
    "    \n",
    "    \n",
    "def find_largest_island_height(matrix: list[list[int]]) -> int:\n",
    "    try:\n",
    "        max_area = 0\n",
    "        m = len(matrix)\n",
    "        n = len(matrix[0])\n",
    "        def dfs(i, j, k):\n",
    "            if (i < 0 or i >= m or j < 0 or j >= n or matrix[i][j] == 0):\n",
    "                return 0\n",
    "            height = matrix[i][j]\n",
    "            matrix[i][j] = 0\n",
    "            return height + \\\n",
    "                    dfs(i + 1, j) + \\\n",
    "                    dfs(i - 1, j) + \\\n",
    "                    dfs(i, j + 1) + \\\n",
    "                    dfs(i, j - 1)\n",
    "\n",
    "        for i in range(m):\n",
    "            for j in range(n):\n",
    "                if (matrix[i][j][k] != 0):\n",
    "                    max_area = max(max_area, dfs(i, j))\n",
    "        return max_area\n",
    "    \n",
    "    except Exception as e:\n",
    "        print(e)\n",
    "    "
   ]
  },
  {
   "cell_type": "code",
   "execution_count": 37,
   "id": "36a56be8",
   "metadata": {},
   "outputs": [
    {
     "name": "stdout",
     "output_type": "stream",
     "text": [
      "find_largest_island_size.<locals>.dfs() missing 1 required positional argument: 'k'\n",
      "None\n"
     ]
    }
   ],
   "source": [
    "matrix = [\n",
    "    [0, 1, 0, 0],\n",
    "    [1, 1, 0, 0],\n",
    "    [0, 0, 1, 1],\n",
    "    [10, 0, 0, 0],\n",
    "]\n",
    "print(find_largest_island_size(matrix))"
   ]
  },
  {
   "cell_type": "code",
   "execution_count": 30,
   "id": "bb2696f3",
   "metadata": {},
   "outputs": [
    {
     "name": "stdout",
     "output_type": "stream",
     "text": [
      "-1\n"
     ]
    }
   ],
   "source": [
    "matrix = [\n",
    "    \n",
    "]\n",
    "print(find_largest_island_size(matrix))"
   ]
  },
  {
   "cell_type": "code",
   "execution_count": null,
   "id": "4780069f",
   "metadata": {},
   "outputs": [],
   "source": []
  }
 ],
 "metadata": {
  "kernelspec": {
   "display_name": "Python 3 (ipykernel)",
   "language": "python",
   "name": "python3"
  },
  "language_info": {
   "codemirror_mode": {
    "name": "ipython",
    "version": 3
   },
   "file_extension": ".py",
   "mimetype": "text/x-python",
   "name": "python",
   "nbconvert_exporter": "python",
   "pygments_lexer": "ipython3",
   "version": "3.10.12"
  }
 },
 "nbformat": 4,
 "nbformat_minor": 5
}
