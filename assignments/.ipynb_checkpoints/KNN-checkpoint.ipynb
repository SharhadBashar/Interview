{
 "cells": [
  {
   "cell_type": "code",
   "execution_count": 42,
   "metadata": {
    "colab": {
     "base_uri": "https://localhost:8080/"
    },
    "id": "qtkrUeKA1mMr",
    "outputId": "1f94cb69-0231-4774-bd76-07e11676bee9"
   },
   "outputs": [
    {
     "name": "stdout",
     "output_type": "stream",
     "text": [
      "Requirement already satisfied: pyspark in /usr/local/lib/python3.10/dist-packages (3.5.0)\n",
      "Requirement already satisfied: py4j==0.10.9.7 in /usr/local/lib/python3.10/dist-packages (from pyspark) (0.10.9.7)\n"
     ]
    }
   ],
   "source": [
    "!pip install --upgrade pyspark"
   ]
  },
  {
   "cell_type": "code",
   "execution_count": null,
   "metadata": {
    "id": "xWXr6bNfuK0y"
   },
   "outputs": [],
   "source": [
    "import numpy as np\n",
    "import pandas as pd\n",
    "from sklearn.model_selection import train_test_split\n",
    "from sklearn.linear_model import LogisticRegression\n",
    "from sklearn.preprocessing import StandardScaler\n",
    "from sklearn.tree import DecisionTreeClassifier\n",
    "import matplotlib.pyplot as plt\n",
    "from sklearn.tree import DecisionTreeClassifier, plot_tree\n",
    "from sklearn.metrics import accuracy_score, precision_score, recall_score, f1_score\n",
    "from scipy import stats\n",
    "from sklearn.neighbors import KNeighborsClassifier"
   ]
  },
  {
   "cell_type": "code",
   "execution_count": null,
   "metadata": {
    "id": "BH4giCudWDh3"
   },
   "outputs": [],
   "source": [
    "\n",
    "# Install and set up PySpark in Colab\n",
    "!pip install -q findspark\n",
    "!pip install -q pyspark\n",
    "\n",
    "# Import necessary libraries\n",
    "from pyspark.sql import SparkSession\n",
    "import pyspark.sql.functions as F\n",
    "\n",
    "# Create a Spark session\n",
    "spark = SparkSession.builder.appName(\"Colab\").getOrCreate()\n",
    "spark = SparkSession.builder.appName(\"KNN_Classifier\").getOrCreate()\n",
    "\n"
   ]
  },
  {
   "cell_type": "code",
   "execution_count": null,
   "metadata": {
    "colab": {
     "base_uri": "https://localhost:8080/"
    },
    "id": "LxkHf48gszVK",
    "outputId": "29f2069f-b4a5-40d6-b7f5-e6095e23ec98"
   },
   "outputs": [
    {
     "name": "stdout",
     "output_type": "stream",
     "text": [
      "Mounted at /content/drive\n"
     ]
    }
   ],
   "source": [
    "#Mount Google Drive\n",
    "from google.colab import drive\n",
    "drive.mount('/content/drive')"
   ]
  },
  {
   "cell_type": "code",
   "execution_count": null,
   "metadata": {
    "colab": {
     "base_uri": "https://localhost:8080/"
    },
    "id": "c5Xy6gqttRPv",
    "outputId": "cc69af35-2885-44a1-a400-7038aa805ef1"
   },
   "outputs": [
    {
     "name": "stdout",
     "output_type": "stream",
     "text": [
      "/content/drive/My Drive/Big Data\n"
     ]
    }
   ],
   "source": [
    "#Change the Directory to Machine Learning folder\n",
    "%cd /content/drive/My Drive/Big Data"
   ]
  },
  {
   "cell_type": "code",
   "execution_count": null,
   "metadata": {
    "id": "Iqf12xS6tcsq"
   },
   "outputs": [],
   "source": [
    "# Read CSV into a Spark DataFrame\n",
    "train_data = spark.read.option(\"header\", \"true\").csv('/content/drive/My Drive/Big Data/train.csv', inferSchema=True)"
   ]
  },
  {
   "cell_type": "code",
   "execution_count": null,
   "metadata": {
    "colab": {
     "base_uri": "https://localhost:8080/"
    },
    "id": "A8_t2e3KtrCR",
    "outputId": "81347af8-e060-4207-e49b-eea221583cc9"
   },
   "outputs": [
    {
     "name": "stdout",
     "output_type": "stream",
     "text": [
      "+-----------+--------+------+--------------------+------+----+-----+-----+----------------+-------+-----+--------+\n",
      "|PassengerId|Survived|Pclass|                Name|   Sex| Age|SibSp|Parch|          Ticket|   Fare|Cabin|Embarked|\n",
      "+-----------+--------+------+--------------------+------+----+-----+-----+----------------+-------+-----+--------+\n",
      "|          1|       0|     3|Braund, Mr. Owen ...|  male|22.0|    1|    0|       A/5 21171|   7.25| NULL|       S|\n",
      "|          2|       1|     1|Cumings, Mrs. Joh...|female|38.0|    1|    0|        PC 17599|71.2833|  C85|       C|\n",
      "|          3|       1|     3|Heikkinen, Miss. ...|female|26.0|    0|    0|STON/O2. 3101282|  7.925| NULL|       S|\n",
      "|          4|       1|     1|Futrelle, Mrs. Ja...|female|35.0|    1|    0|          113803|   53.1| C123|       S|\n",
      "|          5|       0|     3|Allen, Mr. Willia...|  male|35.0|    0|    0|          373450|   8.05| NULL|       S|\n",
      "|          6|       0|     3|    Moran, Mr. James|  male|NULL|    0|    0|          330877| 8.4583| NULL|       Q|\n",
      "|          7|       0|     1|McCarthy, Mr. Tim...|  male|54.0|    0|    0|           17463|51.8625|  E46|       S|\n",
      "|          8|       0|     3|Palsson, Master. ...|  male| 2.0|    3|    1|          349909| 21.075| NULL|       S|\n",
      "|          9|       1|     3|Johnson, Mrs. Osc...|female|27.0|    0|    2|          347742|11.1333| NULL|       S|\n",
      "|         10|       1|     2|Nasser, Mrs. Nich...|female|14.0|    1|    0|          237736|30.0708| NULL|       C|\n",
      "|         11|       1|     3|Sandstrom, Miss. ...|female| 4.0|    1|    1|         PP 9549|   16.7|   G6|       S|\n",
      "|         12|       1|     1|Bonnell, Miss. El...|female|58.0|    0|    0|          113783|  26.55| C103|       S|\n",
      "|         13|       0|     3|Saundercock, Mr. ...|  male|20.0|    0|    0|       A/5. 2151|   8.05| NULL|       S|\n",
      "|         14|       0|     3|Andersson, Mr. An...|  male|39.0|    1|    5|          347082| 31.275| NULL|       S|\n",
      "|         15|       0|     3|Vestrom, Miss. Hu...|female|14.0|    0|    0|          350406| 7.8542| NULL|       S|\n",
      "|         16|       1|     2|Hewlett, Mrs. (Ma...|female|55.0|    0|    0|          248706|   16.0| NULL|       S|\n",
      "|         17|       0|     3|Rice, Master. Eugene|  male| 2.0|    4|    1|          382652| 29.125| NULL|       Q|\n",
      "|         18|       1|     2|Williams, Mr. Cha...|  male|NULL|    0|    0|          244373|   13.0| NULL|       S|\n",
      "|         19|       0|     3|Vander Planke, Mr...|female|31.0|    1|    0|          345763|   18.0| NULL|       S|\n",
      "|         20|       1|     3|Masselmani, Mrs. ...|female|NULL|    0|    0|            2649|  7.225| NULL|       C|\n",
      "+-----------+--------+------+--------------------+------+----+-----+-----+----------------+-------+-----+--------+\n",
      "only showing top 20 rows\n",
      "\n"
     ]
    }
   ],
   "source": [
    "# Display the first few rows of the DataFrame\n",
    "train_data.show()"
   ]
  },
  {
   "cell_type": "code",
   "execution_count": null,
   "metadata": {
    "id": "p1K_pFTNyE0_"
   },
   "outputs": [],
   "source": [
    "from pyspark.ml.feature import Imputer, StringIndexer, VectorAssembler, StandardScaler\n",
    "from pyspark.ml import Pipeline\n",
    "from sklearn.neighbors import KNeighborsClassifier\n",
    "from pyspark.ml.clustering import KMeans"
   ]
  },
  {
   "cell_type": "code",
   "execution_count": null,
   "metadata": {
    "id": "T2y8RA1FtuRa"
   },
   "outputs": [],
   "source": [
    "#Data Preprocessing:\n",
    "# Handle missing values\n",
    "imputer = Imputer(strategy=\"mean\", inputCols=[\"Age\", \"Fare\", \"Survived\"], outputCols=[\"Age_imputed\", \"Fare_imputed\", \"Survived_imputed\"])\n",
    "train_data = imputer.fit(train_data).transform(train_data)"
   ]
  },
  {
   "cell_type": "code",
   "execution_count": null,
   "metadata": {
    "id": "FC2bZa_mzN2_"
   },
   "outputs": [],
   "source": [
    "# Convert categorical variables\n",
    "#Drop existing indexed columns\n",
    "train_data = train_data.drop(\"Sex_indexed\", \"Cabin_indexed\")\n",
    "#Apply Stringindex with handleInvalid=\"skip\"\n",
    "indexer = StringIndexer(inputCols=[\"Sex\", \"Cabin\"], outputCols=[\"Sex_indexed\", \"Cabin_indexed\"], handleInvalid=\"skip\")\n",
    "train_data = indexer.fit(train_data).transform(train_data)\n"
   ]
  },
  {
   "cell_type": "code",
   "execution_count": null,
   "metadata": {
    "id": "x87c27RyQ6aL"
   },
   "outputs": [],
   "source": [
    "from pyspark.ml.feature import VectorAssembler\n",
    "from sklearn.neighbors import KNeighborsClassifier\n",
    "from sklearn.metrics import accuracy_score\n",
    "from pyspark.sql import SparkSession"
   ]
  },
  {
   "cell_type": "code",
   "execution_count": null,
   "metadata": {
    "id": "OUVxFRVVzzM9"
   },
   "outputs": [],
   "source": [
    "# Create a new \"features_new\" column\n",
    "feature_cols = [\"Pclass\", \"Age_imputed\", \"Fare_imputed\", \"Survived_imputed\", \"Sex_indexed\", \"Cabin_indexed\"]\n",
    "assembler = VectorAssembler(inputCols=feature_cols, outputCol=\"feature_new\")\n",
    "train_data = assembler.transform(train_data)"
   ]
  },
  {
   "cell_type": "code",
   "execution_count": null,
   "metadata": {
    "id": "VA5qpD6j0BHL"
   },
   "outputs": [],
   "source": [
    "from pyspark.ml.tuning import ParamGridBuilder, CrossValidator\n",
    "from pyspark.ml.evaluation import MulticlassClassificationEvaluator\n"
   ]
  },
  {
   "cell_type": "code",
   "execution_count": null,
   "metadata": {
    "id": "MKbTh3J7S7WG"
   },
   "outputs": [],
   "source": [
    "#Spark MLib does not have a built in KNN implementation\n",
    "#Steps to follow for KNN implementation\n",
    "#1. Convert the Spark DataFrame to Pandas DataFrame\n",
    "#2. Train a KNN model using scikit-learn\n",
    "#3. Evaluate model"
   ]
  },
  {
   "cell_type": "code",
   "execution_count": null,
   "metadata": {
    "id": "5nZ3jFJ-bO2r"
   },
   "outputs": [],
   "source": [
    "from sklearn.neighbors import KNeighborsClassifier\n",
    "from sklearn.metrics import accuracy_score, precision_score, recall_score, f1_score"
   ]
  },
  {
   "cell_type": "code",
   "execution_count": null,
   "metadata": {
    "id": "X70Bbsu20Gt9"
   },
   "outputs": [],
   "source": [
    "# Split the data\n",
    "train_set, test_set = train_data.randomSplit([0.8, 0.2], seed=42)\n"
   ]
  },
  {
   "cell_type": "code",
   "execution_count": null,
   "metadata": {
    "id": "C76xwqD7WyIb"
   },
   "outputs": [],
   "source": [
    "# Convert the Spark DataFrames to Pandas DataFrames\n",
    "import pandas as pd\n",
    "train_pd = train_set.toPandas()\n",
    "test_pd = test_set.toPandas()\n"
   ]
  },
  {
   "cell_type": "code",
   "execution_count": null,
   "metadata": {
    "id": "A6nT0EcV0Orh"
   },
   "outputs": [],
   "source": [
    "#1: Prepare Data\n",
    "x_train = train_pd.drop(\"Survived\", axis=1)\n",
    "y_train = train_pd[\"Survived\"]\n",
    "\n",
    "x_test = test_pd.drop(\"Survived\", axis=1)\n",
    "y_test = test_pd[\"Survived\"]"
   ]
  },
  {
   "cell_type": "code",
   "execution_count": null,
   "metadata": {
    "id": "PY2GKPl8qS2s"
   },
   "outputs": [],
   "source": [
    "from sklearn.impute import SimpleImputer\n",
    "\n",
    "# Identify non-numeric columns in train set\n",
    "non_numeric_cols_train = x_train.select_dtypes(exclude=['float64', 'int64']).columns\n",
    "\n",
    "# Convert non-numeric columns using one-hot encoding\n",
    "x_train_encoded = pd.get_dummies(x_train, columns=non_numeric_cols_train)\n",
    "\n",
    "# Handle missing values in train set\n",
    "imputer = SimpleImputer(strategy='mean')\n",
    "x_train_imputed = pd.DataFrame(imputer.fit_transform(x_train_encoded), columns=x_train_encoded.columns)"
   ]
  },
  {
   "cell_type": "code",
   "execution_count": null,
   "metadata": {
    "id": "f4lfGwGa8kM_"
   },
   "outputs": [],
   "source": [
    "# Identify non-numeric columns in test set\n",
    "non_numeric_cols_test = x_test.select_dtypes(exclude=['float64', 'int64']).columns\n",
    "\n",
    "# Convert non-numeric columns using one-hot encoding\n",
    "x_test_encoded = pd.get_dummies(x_test, columns=non_numeric_cols_test)\n",
    "\n",
    "# Ensure that both training and testing sets have the same columns after one-hot encoding\n",
    "x_test_encoded = x_test_encoded.reindex(columns=x_train_imputed.columns, fill_value=0)\n",
    "\n",
    "# Fit and transform the imputer on the training set\n",
    "imputer.fit(x_train_encoded)\n",
    "\n",
    "# Handle missing values in the testing set\n",
    "x_test_imputed = pd.DataFrame(imputer.transform(x_test_encoded), columns=x_test_encoded.columns)"
   ]
  },
  {
   "cell_type": "code",
   "execution_count": null,
   "metadata": {
    "id": "bZ7tNePpwPfE"
   },
   "outputs": [],
   "source": [
    "from sklearn.preprocessing import StandardScaler\n",
    "\n",
    "# Initialize StandardScaler\n",
    "scaler = StandardScaler()\n",
    "\n",
    "# Fit and transform on the training data\n",
    "x_train_scaled = pd.DataFrame(scaler.fit_transform(x_train_imputed), columns=x_train_imputed.columns)\n",
    "\n",
    "# Transform the test data using the same scaler\n",
    "x_test_scaled = pd.DataFrame(scaler.transform(x_test_imputed), columns=x_test_imputed.columns)"
   ]
  },
  {
   "cell_type": "code",
   "execution_count": null,
   "metadata": {
    "id": "c8CgaEyE-KC8"
   },
   "outputs": [],
   "source": [
    "from sklearn.neighbors import KNeighborsClassifier\n",
    "\n",
    "# Step 1: Train the KNN Model\n",
    "\n",
    "knn_model = KNeighborsClassifier(n_neighbors=3)\n",
    "knn_model.fit(x_train_scaled, y_train)\n",
    "\n",
    "# Step 2: Make Predictions\n",
    "y_pred = knn_model.predict(x_test_scaled)"
   ]
  },
  {
   "cell_type": "code",
   "execution_count": null,
   "metadata": {
    "colab": {
     "base_uri": "https://localhost:8080/"
    },
    "id": "0Sbj5td__bAv",
    "outputId": "79053f5d-cda0-4fe0-c0c1-e77755e62891"
   },
   "outputs": [
    {
     "name": "stdout",
     "output_type": "stream",
     "text": [
      "Accuracy Score: 67.74%\n",
      "Precision Score: 67.74%\n",
      "Recall Score: 100.00%\n",
      "F1 Score: 80.77%\n"
     ]
    }
   ],
   "source": [
    "from sklearn.metrics import accuracy_score, precision_score, recall_score, f1_score\n",
    "accuracy = accuracy_score(y_test, y_pred)\n",
    "precision = precision_score(y_test, y_pred)\n",
    "recall = recall_score(y_test, y_pred)\n",
    "f1 = f1_score(y_test, y_pred)\n",
    "# Convert to percentage\n",
    "accuracy_percentage = accuracy * 100\n",
    "precision_percentage = precision * 100\n",
    "recall_percentage = recall * 100\n",
    "f1_percentage = f1 * 100\n",
    "\n",
    "print(f'Accuracy Score: {accuracy_percentage:.2f}%')\n",
    "print(f'Precision Score: {precision_percentage:.2f}%')\n",
    "print(f'Recall Score: {recall_percentage:.2f}%')\n",
    "print(f'F1 Score: {f1_percentage:.2f}%')"
   ]
  },
  {
   "cell_type": "code",
   "execution_count": null,
   "metadata": {
    "colab": {
     "base_uri": "https://localhost:8080/",
     "height": 489
    },
    "id": "fvvl819pE-V_",
    "outputId": "20d50c1d-7e73-43a5-9e00-dda16deadd7f"
   },
   "outputs": [
    {
     "data": {
      "image/png": "[encoded data removed]",
      "text/plain": [
       "<Figure size 640x480 with 1 Axes>"
      ]
     },
     "metadata": {},
     "output_type": "display_data"
    },
    {
     "name": "stdout",
     "output_type": "stream",
     "text": [
      "The best K value is: 1\n"
     ]
    }
   ],
   "source": [
    "# Find the best K\n",
    "# Create a list of K values\n",
    "k_values = list(range(1, 21))\n",
    "\n",
    "accuracy_scores = []\n",
    "\n",
    "for k in k_values:\n",
    "    # Create a KNN classifier with the current K value\n",
    "    knn = KNeighborsClassifier(n_neighbors=k)\n",
    "\n",
    "    # Train the model\n",
    "    knn.fit(x_train_scaled, y_train)\n",
    "\n",
    "    # Make predictions on the test data\n",
    "    y_pred = knn.predict(x_test_scaled)\n",
    "\n",
    "    # Check the length of y_test and y_pred\n",
    "    if len(y_test) != len(y_pred):\n",
    "        print(f\"Length mismatch for K={k}: y_test={len(y_test)}, y_pred={len(y_pred)}\")\n",
    "        continue\n",
    "\n",
    "    # Evaluate the model using accuracy\n",
    "    accuracy = accuracy_score(y_test, y_pred)\n",
    "    accuracy_scores.append(accuracy)\n",
    "\n",
    "# Plot the accuracy scores for different K values\n",
    "plt.plot(k_values, accuracy_scores)\n",
    "plt.xlabel(\"K Value\")\n",
    "plt.ylabel(\"Accuracy\")\n",
    "plt.title(\"KNN Classifier Accuracy vs. K Value\")\n",
    "plt.grid(True)\n",
    "plt.show()\n",
    "\n",
    "# Find the best K value\n",
    "best_k = k_values[accuracy_scores.index(max(accuracy_scores))]\n",
    "print(\"The best K value is:\", best_k)"
   ]
  },
  {
   "cell_type": "code",
   "execution_count": null,
   "metadata": {
    "colab": {
     "base_uri": "https://localhost:8080/"
    },
    "id": "MzZKN_2bN5Ww",
    "outputId": "4c393f5d-ed79-468a-e844-9a67be6552f3"
   },
   "outputs": [
    {
     "name": "stdout",
     "output_type": "stream",
     "text": [
      "Mean Cross-Validation Accuracy: 69.28%\n",
      "Standard Deviation of Cross-Validation Accuracy: 6.39%\n"
     ]
    }
   ],
   "source": [
    "from sklearn.model_selection import cross_val_score, KFold\n",
    "\n",
    "# Create a KNN classifier with the best K value\n",
    "best_knn_model = KNeighborsClassifier(n_neighbors=best_k)\n",
    "\n",
    "# Perform 5-fold cross-validation\n",
    "cv = KFold(n_splits=5, shuffle=True, random_state=42)\n",
    "cv_scores = cross_val_score(best_knn_model, x_train_scaled, y_train, cv=cv, scoring='accuracy')\n",
    "# Report mean and standard deviation of cross-validation scores\n",
    "# Report mean and standard deviation of cross-validation scores\n",
    "print(f\"Mean Cross-Validation Accuracy: {np.mean(cv_scores) * 100:.2f}%\")\n",
    "print(f\"Standard Deviation of Cross-Validation Accuracy: {np.std(cv_scores) * 100:.2f}%\")"
   ]
  },
  {
   "cell_type": "markdown",
   "metadata": {
    "id": "Cklz1ImIJV7D"
   },
   "source": [
    "According to the 5-fold cross-validation, Mean Accuracy is 69.28% and Standard Deviation of Accuracy is\n",
    "6.39%."
   ]
  },
  {
   "cell_type": "code",
   "execution_count": 1,
   "metadata": {
    "colab": {
     "base_uri": "https://localhost:8080/",
     "height": 616
    },
    "id": "w_NHsKF40N1C",
    "outputId": "272fc983-2129-4e4e-d9b0-074b7088953b"
   },
   "outputs": [
    {
     "ename": "NameError",
     "evalue": "name 'best_knn_model' is not defined",
     "output_type": "error",
     "traceback": [
      "\u001b[0;31m---------------------------------------------------------------------------\u001b[0m",
      "\u001b[0;31mNameError\u001b[0m                                 Traceback (most recent call last)",
      "Cell \u001b[0;32mIn[1], line 5\u001b[0m\n\u001b[1;32m      2\u001b[0m \u001b[38;5;28;01mimport\u001b[39;00m \u001b[38;5;21;01mseaborn\u001b[39;00m \u001b[38;5;28;01mas\u001b[39;00m \u001b[38;5;21;01msns\u001b[39;00m\n\u001b[1;32m      4\u001b[0m \u001b[38;5;66;03m# Fit the model on the training data\u001b[39;00m\n\u001b[0;32m----> 5\u001b[0m \u001b[43mbest_knn_model\u001b[49m\u001b[38;5;241m.\u001b[39mfit(x_train_scaled, y_train)\n\u001b[1;32m      7\u001b[0m \u001b[38;5;66;03m# Make predictions on the test data\u001b[39;00m\n\u001b[1;32m      8\u001b[0m y_pred \u001b[38;5;241m=\u001b[39m best_knn_model\u001b[38;5;241m.\u001b[39mpredict(x_test_scaled)\n",
      "\u001b[0;31mNameError\u001b[0m: name 'best_knn_model' is not defined"
     ]
    }
   ],
   "source": [
    "from sklearn.metrics import confusion_matrix\n",
    "import seaborn as sns\n",
    "\n",
    "# Fit the model on the training data\n",
    "best_knn_model.fit(x_train_scaled, y_train)\n",
    "\n",
    "# Make predictions on the test data\n",
    "y_pred = best_knn_model.predict(x_test_scaled)\n",
    "\n",
    "# Generate confusion matrix\n",
    "cm = confusion_matrix(y_test, y_pred)\n",
    "print(f'Confusion Matrix:\\n{cm}')\n",
    "\n",
    "# Plot confusion matrix using seaborn\n",
    "plt.figure(figsize=(8, 6))\n",
    "sns.heatmap(cm, annot=True, fmt=\"d\", cmap=\"Blues\", xticklabels=['Not Survived', 'Survived'], yticklabels=['Not Survived', 'Survived'])\n",
    "plt.title('Confusion Matrix')\n",
    "plt.xlabel('Predicted')\n",
    "plt.ylabel('Actual')\n",
    "plt.show()\n"
   ]
  },
  {
   "cell_type": "code",
   "execution_count": null,
   "metadata": {},
   "outputs": [],
   "source": []
  }
 ],
 "metadata": {
  "colab": {
   "provenance": []
  },
  "kernelspec": {
   "display_name": "Python 3 (ipykernel)",
   "language": "python",
   "name": "python3"
  },
  "language_info": {
   "codemirror_mode": {
    "name": "ipython",
    "version": 3
   },
   "file_extension": ".py",
   "mimetype": "text/x-python",
   "name": "python",
   "nbconvert_exporter": "python",
   "pygments_lexer": "ipython3",
   "version": "3.10.13"
  }
 },
 "nbformat": 4,
 "nbformat_minor": 1
}
