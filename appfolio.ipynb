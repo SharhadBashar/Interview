{
  "nbformat": 4,
  "nbformat_minor": 0,
  "metadata": {
    "colab": {
      "name": "Copy of #3 - Practical exercise (fit a network) (20 min).ipynb",
      "provenance": [],
      "collapsed_sections": []
    },
    "kernelspec": {
      "name": "python3",
      "display_name": "Python 3"
    }
  },
  "cells": [
    {
      "cell_type": "code",
      "metadata": {
        "id": "kE8PKxQQYaHP"
      },
      "source": [
        "import numpy as np\n",
        "from matplotlib import pyplot as plt"
      ],
      "execution_count": 1,
      "outputs": []
    },
    {
      "cell_type": "markdown",
      "source": [
        "(A) Find the location and the value of the maximum using GD (Gradient Descent) for the function y = -(x-2)^2 + 3"
      ],
      "metadata": {
        "id": "ZjmC5HgVik1j"
      }
    },
    {
      "cell_type": "code",
      "source": [
        "# IMPLEMENTATION\n",
        "'''\n",
        "y = -(x - 2) ^ 2 + 3\n",
        "y/x = -2 * (x - 2) * (1)\n",
        "y/x = -2 * (x - 2)\n",
        "'''\n",
        "\n",
        "def gradient(X, learning_rate = 0.1, iterations = 100):\n",
        "  m = len(y)\n",
        "  cost_history = np.zeros(iterations)\n",
        "  theta_history = np.zeros()\n",
        "  for i in iterations:\n",
        "    prev_x = x\n",
        "    grad = -2 * (X - 2)\n",
        "    X = X - learning_rate * grad\n",
        "\n",
        "\n",
        "gradient(0)\n",
        "\n"
      ],
      "metadata": {
        "id": "VZ1ub4LBiqFf"
      },
      "execution_count": null,
      "outputs": []
    },
    {
      "cell_type": "markdown",
      "source": [
        "(B) Simulate 10K samples of the tuple (y, x), where y = -(X-2)^2 + 3 + N, X is uniformly distributed between [0,4] and N is a Normal Distributed Random variable of mean = 0 and standard deviation = 0.1. Plot the generated dataset."
      ],
      "metadata": {
        "id": "LSmAttIjisAJ"
      }
    },
    {
      "cell_type": "code",
      "source": [
        "# IMPLEMENTATION\n",
        "\n",
        "nSamples = 10000\n",
        "X = np.random.uniform(low=0.0, high=4.0, size = nSamples)\n",
        "N = np.random.normal(loc=0.0, scale=0.1, size = nSamples)\n",
        "\n",
        "y = -(X-2)**2 + 3.0 + N\n",
        "\n",
        "\n",
        "\n"
      ],
      "metadata": {
        "id": "87XUy0w1iylf"
      },
      "execution_count": null,
      "outputs": []
    },
    {
      "cell_type": "markdown",
      "source": [
        "(C) Using pseudo code or the framework you like, implement a Deep Learning model for predicting y from X using the dataset generated in (B) "
      ],
      "metadata": {
        "id": "h1sxIdUxi4VP"
      }
    },
    {
      "cell_type": "code",
      "source": [
        "from torch.utils.data import Dataset, DataLoader\n",
        "import torch.nn as nn\n",
        "import torch.optim as optim\n",
        "import torch.nn as nn\n",
        "import torch.nn.functional as F\n",
        "\n",
        "\n",
        "class CustomDataset(Dataset):\n",
        "\n",
        "    def __init__(self, x, y):\n",
        "        self.x = x\n",
        "        self.y = y\n",
        "\n",
        "    def __len__(self):\n",
        "        return len(self.x)\n",
        "\n",
        "    def __getitem__(self, idx):\n",
        "        return self.x[idx], self.y[idx]\n",
        "\n",
        "\n",
        "class Net(nn.Module):\n",
        "    def __init__(self):\n",
        "        # IMPLEMENT HERE  \n",
        "        # building blocks: https://pytorch.org/docs/stable/nn.html\n",
        "        # init vs forward: https://pytorch.org/tutorials/beginner/pytorch_with_examples.html#pytorch-custom-nn-modules\n",
        "        super().__init__()\n",
        "        self.hidden = nn.Linear(1, 10)\n",
        "        self.output = nn.Linear(10, 1)\n",
        "        self.sigmoid = nn.Sigmoid()\n",
        "        self.softmax = nn.Softmax(dim = 1)\n",
        "    def forward(self, x):\n",
        "        # IMPLEMENT HERE\n",
        "        # init vs forward: https://pytorch.org/tutorials/beginner/pytorch_with_examples.html#pytorch-custom-nn-modules\n",
        "        \n",
        "        \n",
        "\n",
        "\n",
        "\n",
        "n_epoch = # IMPLEMENT HERE\n",
        "batch_size = # IMPLEMENT HERE\n",
        "\n",
        "net = Net()\n",
        "criterion = # IMPLEMENT HERE: https://pytorch.org/docs/stable/nn.html#loss-functions\n",
        "optimizer = # IMPLEMENT HERE: https://pytorch.org/docs/stable/optim.html#algorithms\n",
        "dataset = CustomDataset(x_norm, y_norm)\n",
        "trainloader = DataLoader(dataset, batch_size=batch_size, shuffle=True)\n",
        "\n",
        "for epoch in range(n_epoch):  \n",
        "    epoch_loss = 0.0\n",
        "    for i, data in enumerate(trainloader, 0):\n",
        "        xs, ys = data\n",
        "        xs = xs.reshape(-1,1)\n",
        "        ys = ys.reshape(-1,1)\n",
        "\n",
        "        optimizer.zero_grad()\n",
        "\n",
        "        outputs = net(xs)\n",
        "        loss = criterion(outputs, ys)\n",
        "        loss.backward()\n",
        "        optimizer.step()\n",
        "\n",
        "        epoch_loss += loss.item()\n",
        "    print(epoch_loss)\n",
        "\n",
        "print(epoch_loss)\n",
        "print('Finished Training')"
      ],
      "metadata": {
        "id": "fxm4FMIbk2oc"
      },
      "execution_count": null,
      "outputs": []
    }
  ]
}